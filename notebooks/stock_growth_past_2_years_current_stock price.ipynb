{
 "cells": [
  {
   "cell_type": "code",
   "execution_count": null,
   "metadata": {},
   "outputs": [],
   "source": [
    "import requests\n",
    "from api_key import key\n",
    "from datetime import datetime, timedelta"
   ]
  },
  {
   "cell_type": "code",
   "execution_count": null,
   "metadata": {},
   "outputs": [],
   "source": [
    "def get_stock_price(ticker):\n",
    "    \"\"\"Get stock growth for given stocks\n",
    "    over a 2 year date range in yearly timespan. Meaning this function is comparing the opening stock price\n",
    "    from today to the closing stock price from (today - 2 years).\n",
    "    Today being the 14th of March 2023 we would compare todays opening stock price (14.03.23) with the\n",
    "    closing stock price of 14.03.2021.\n",
    "    \"\"\"\n",
    "    # Define the API URL and parameters\n",
    "    start_date = (datetime.date.today().strftime('%Y-%m-%d')\n",
    "    end_date = (datetime.date.today() - datetime.timedelta(days=2*365)).strftime('%Y-%m-%d')\n",
    " \n",
    "    # Replace <your_api_key> with your actual API key from Polygon\n",
    "    url = f\"https://api.polygon.io/v2/aggs/ticker/{ticker}/range/1/day/{end_date}/{start_date}?apiKey={key}\"\n",
    "    # Send the request to the API\n",
    "    response = requests.get(url)\n",
    "    # Check if the response was successful\n",
    "    if response.status_code == 200:\n",
    "        # Parse the response JSON data\n",
    "        data = json.loads(response.content)\n",
    "        # Get the current stock price\n",
    "        current_price = data['results'][-1]['o']\n",
    "        # Get the stock price from 5 years ago\n",
    "        five_years_ago_price = data['results'][0]['c']\n",
    "        # Calculate the price change percentage\n",
    "        price_change_pct = (current_price - five_years_ago_price) / five_years_ago_price * 100\n",
    "        # Return the results\n",
    "        return {\"ticker\": ticker, \"current_price\": current_price, \"two_years_ago_price\": five_years_ago_price, \"price_change_pct\": price_change_pct}\n",
    "    else:\n",
    "        # If the response was not successful, raise an error\n",
    "        raise ValueError(\"Unable to fetch stock price data. Status code: {}\".format(response.status_code))\n"
   ]
  },
  {
   "cell_type": "code",
   "execution_count": null,
   "metadata": {},
   "outputs": [
    {
     "name": "stdout",
     "output_type": "stream",
     "text": [
      "{'ticker': 'AAPL', 'current_price': 150.47, 'two_years_ago_price': 123.99, 'price_change_pct': 21.356561012984923}\n"
     ]
    }
   ],
   "source": [
    "stock_price_data = get_stock_price('AAPL')\n",
    "print(stock_price_data)"
   ]
  }
 ],
 "metadata": {
  "kernelspec": {
   "display_name": "stock-env",
   "language": "python",
   "name": "python3"
  },
  "language_info": {
   "codemirror_mode": {
    "name": "ipython",
    "version": 3
   },
   "file_extension": ".py",
   "mimetype": "text/x-python",
   "name": "python",
   "nbconvert_exporter": "python",
   "pygments_lexer": "ipython3",
   "version": "3.10.6"
  },
  "orig_nbformat": 4
 },
 "nbformat": 4,
 "nbformat_minor": 2
}
