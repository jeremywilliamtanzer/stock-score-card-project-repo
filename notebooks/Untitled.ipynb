{
 "cells": [
  {
   "cell_type": "code",
   "execution_count": 1,
   "id": "9c463a74",
   "metadata": {},
   "outputs": [],
   "source": [
    "import requests\n",
    "import os"
   ]
  },
  {
   "cell_type": "code",
   "execution_count": 2,
   "id": "e6de4eaa",
   "metadata": {},
   "outputs": [],
   "source": [
    "def get_ticker_details(tickers):\n",
    "    tickers = tickers.upper()\n",
    "    \n",
    "    POLY_KEY = 'wQ5FjyMjpTSO2j5vBxbLuIp72hwYd5E5'\n",
    "    # Get ticker details from Polygon's Stocks API\n",
    "    url = f\"https://api.polygon.io/v3/reference/tickers/{tickers}?&apikey={POLY_KEY}\"\n",
    "    ticker_details = requests.get(url).json()\n",
    "    company_logo = ticker_details[\"results\"][\"branding\"][\"logo_url\"]\n",
    "    company_name = ticker_details[\"results\"][\"name\"]\n",
    "    company_sector = ticker_details[\"results\"][\"sic_description\"]\n",
    "    #return logo, name, sector:\n",
    "    return company_logo, company_name, company_sector"
   ]
  },
  {
   "cell_type": "code",
   "execution_count": 3,
   "id": "9135feb4",
   "metadata": {},
   "outputs": [
    {
     "data": {
      "text/plain": [
       "('https://api.polygon.io/v1/reference/company-branding/d3d3LmFwcGxlLmNvbQ/images/2023-03-01_logo.svg',\n",
       " 'Apple Inc.',\n",
       " 'ELECTRONIC COMPUTERS')"
      ]
     },
     "execution_count": 3,
     "metadata": {},
     "output_type": "execute_result"
    }
   ],
   "source": [
    "get_ticker_details('aapl')"
   ]
  },
  {
   "cell_type": "markdown",
   "id": "271a37cf",
   "metadata": {},
   "source": [
    "tickers = tickers.upper()\n",
    "    \n",
    "POLY_KEY = 'wQ5FjyMjpTSO2j5vBxbLuIp72hwYd5E5'\n",
    "# Get ticker details from Polygon's Stocks API\n",
    "url = f\"https://api.polygon.io/v3/reference/tickers/{tickers}?&apikey={POLY_KEY}\"\n",
    "ticker_details = requests.get(url).json()\n",
    "company_logo = ticker_details[\"results\"][\"branding\"][\"logo_url\"]\n",
    "company_name = ticker_details[\"results\"][\"name\"]\n",
    "company_sector = ticker_details[\"results\"][\"sic_description\"]"
   ]
  }
 ],
 "metadata": {
  "kernelspec": {
   "display_name": "Python 3 (ipykernel)",
   "language": "python",
   "name": "python3"
  },
  "language_info": {
   "codemirror_mode": {
    "name": "ipython",
    "version": 3
   },
   "file_extension": ".py",
   "mimetype": "text/x-python",
   "name": "python",
   "nbconvert_exporter": "python",
   "pygments_lexer": "ipython3",
   "version": "3.10.6"
  },
  "toc": {
   "base_numbering": 1,
   "nav_menu": {},
   "number_sections": true,
   "sideBar": true,
   "skip_h1_title": false,
   "title_cell": "Table of Contents",
   "title_sidebar": "Contents",
   "toc_cell": false,
   "toc_position": {},
   "toc_section_display": true,
   "toc_window_display": false
  }
 },
 "nbformat": 4,
 "nbformat_minor": 5
}
