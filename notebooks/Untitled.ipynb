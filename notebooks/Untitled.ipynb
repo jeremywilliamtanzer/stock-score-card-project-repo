{
 "cells": [
  {
   "cell_type": "code",
   "execution_count": 35,
   "id": "9c463a74",
   "metadata": {},
   "outputs": [],
   "source": [
    "import requests\n",
    "import os\n",
    "import matplotlib.pyplot as plt\n",
    "import seaborn as sns\n",
    "import pandas as pd\n",
    "from datetime import *\n",
    "import datetime "
   ]
  },
  {
   "cell_type": "code",
   "execution_count": 2,
   "id": "e6de4eaa",
   "metadata": {},
   "outputs": [],
   "source": [
    "def get_ticker_details(tickers):\n",
    "    tickers = tickers.upper()\n",
    "    \n",
    "    POLY_KEY = 'wQ5FjyMjpTSO2j5vBxbLuIp72hwYd5E5'\n",
    "    # Get ticker details from Polygon's Stocks API\n",
    "    url = f\"https://api.polygon.io/v3/reference/tickers/{tickers}?&apikey={POLY_KEY}\"\n",
    "    ticker_details = requests.get(url).json()\n",
    "    company_logo = ticker_details[\"results\"][\"branding\"][\"logo_url\"]\n",
    "    company_name = ticker_details[\"results\"][\"name\"]\n",
    "    company_sector = ticker_details[\"results\"][\"sic_description\"]\n",
    "    #return logo, name, sector:\n",
    "    return company_logo, company_name, company_sector"
   ]
  },
  {
   "cell_type": "code",
   "execution_count": 3,
   "id": "9135feb4",
   "metadata": {},
   "outputs": [
    {
     "data": {
      "text/plain": [
       "('https://api.polygon.io/v1/reference/company-branding/d3d3LmFwcGxlLmNvbQ/images/2023-03-01_logo.svg',\n",
       " 'Apple Inc.',\n",
       " 'ELECTRONIC COMPUTERS')"
      ]
     },
     "execution_count": 3,
     "metadata": {},
     "output_type": "execute_result"
    }
   ],
   "source": [
    "get_ticker_details('aapl')"
   ]
  },
  {
   "cell_type": "markdown",
   "id": "271a37cf",
   "metadata": {},
   "source": [
    "tickers = tickers.upper()\n",
    "    \n",
    "POLY_KEY = 'wQ5FjyMjpTSO2j5vBxbLuIp72hwYd5E5'\n",
    "# Get ticker details from Polygon's Stocks API\n",
    "url = f\"https://api.polygon.io/v3/reference/tickers/{tickers}?&apikey={POLY_KEY}\"\n",
    "ticker_details = requests.get(url).json()\n",
    "company_logo = ticker_details[\"results\"][\"branding\"][\"logo_url\"]\n",
    "company_name = ticker_details[\"results\"][\"name\"]\n",
    "company_sector = ticker_details[\"results\"][\"sic_description\"]"
   ]
  },
  {
   "cell_type": "code",
   "execution_count": 41,
   "id": "cf633ccc",
   "metadata": {},
   "outputs": [],
   "source": [
    "def get_stock_price_history(tickers):\n",
    "    \"\"\"Get stock history for a given stock\n",
    "    over a 2 year date range in yearly timespan.\n",
    "    \"\"\"\n",
    "    POLY_KEY_1 = 'rW1fMPt5T8N4lrq6J4HM58LKZj1VBoPl'\n",
    "    tickers = tickers.upper()\n",
    "\n",
    "    # Define the API URL and parameters\n",
    "    end = (date.today() - timedelta(days=1)).strftime(\"%Y-%m-%d\")\n",
    "    start = (date.today() - timedelta(days=2*365)).strftime(\"%Y-%m-%d\")\n",
    "\n",
    "    # Replace <your_api_key> with your actual API key from Polygon\n",
    "    url = f'https://api.polygon.io/v2/aggs/ticker/{tickers}/range/1/day/{start}/{end}?adjusted=true&sort=asc&limit=120&apiKey={POLY_KEY_1}'\n",
    "    # Send the request to the API\n",
    "    response = requests.get(url).json()\n",
    "    # Check if the response was successful\n",
    "    response = pd.DataFrame.from_dict(response['results'])\n",
    "    response.columns = ['volume', 'vwap', 'open', 'close', 'high', 'low', 'timestamp', 'n']\n",
    "    response['date'] = response.timestamp.apply(lambda i: date.fromtimestamp(i/1000))\n",
    "    response = response[['volume', 'vwap', 'open', 'close', 'high', 'low', 'date', 'n']].set_index('date')\n",
    "    output = list(response['close'])\n",
    "    return output"
   ]
  },
  {
   "cell_type": "code",
   "execution_count": 42,
   "id": "91418d3d",
   "metadata": {},
   "outputs": [
    {
     "data": {
      "text/plain": [
       "list"
      ]
     },
     "execution_count": 42,
     "metadata": {},
     "output_type": "execute_result"
    }
   ],
   "source": [
    "type(get_stock_price_history('aapl'))"
   ]
  },
  {
   "cell_type": "code",
   "execution_count": 43,
   "id": "f448fe6c",
   "metadata": {},
   "outputs": [
    {
     "data": {
      "text/plain": [
       "[121.39,\n",
       " 119.9,\n",
       " 122.15,\n",
       " 123.0,\n",
       " 125.9,\n",
       " 126.21,\n",
       " 127.9,\n",
       " 130.36,\n",
       " 132.995,\n",
       " 131.24,\n",
       " 134.43,\n",
       " 132.03,\n",
       " 134.5,\n",
       " 134.16,\n",
       " 134.84,\n",
       " 133.11,\n",
       " 133.5,\n",
       " 131.94,\n",
       " 134.32,\n",
       " 134.72,\n",
       " 134.39,\n",
       " 133.58,\n",
       " 133.48,\n",
       " 131.46,\n",
       " 132.54,\n",
       " 127.85,\n",
       " 128.1,\n",
       " 129.74,\n",
       " 130.21,\n",
       " 126.85,\n",
       " 125.91,\n",
       " 122.77,\n",
       " 124.97,\n",
       " 127.45,\n",
       " 126.27,\n",
       " 124.85,\n",
       " 124.69,\n",
       " 127.31,\n",
       " 125.43,\n",
       " 127.1,\n",
       " 126.9,\n",
       " 126.85,\n",
       " 125.28,\n",
       " 124.61,\n",
       " 124.28,\n",
       " 125.06,\n",
       " 123.54,\n",
       " 125.89,\n",
       " 125.9,\n",
       " 126.74,\n",
       " 127.13,\n",
       " 126.11,\n",
       " 127.35,\n",
       " 130.48,\n",
       " 129.64,\n",
       " 130.15,\n",
       " 131.79,\n",
       " 130.46,\n",
       " 132.3,\n",
       " 133.98,\n",
       " 133.7,\n",
       " 133.41,\n",
       " 133.11,\n",
       " 134.78,\n",
       " 136.33,\n",
       " 136.96,\n",
       " 137.27,\n",
       " 139.96,\n",
       " 142.02,\n",
       " 144.57,\n",
       " 143.24,\n",
       " 145.11,\n",
       " 144.5,\n",
       " 145.64,\n",
       " 149.15,\n",
       " 148.48,\n",
       " 146.39,\n",
       " 142.45,\n",
       " 146.15,\n",
       " 145.4,\n",
       " 146.8,\n",
       " 148.56,\n",
       " 148.99,\n",
       " 146.77,\n",
       " 144.98,\n",
       " 145.64,\n",
       " 145.86,\n",
       " 145.52,\n",
       " 147.36,\n",
       " 146.95,\n",
       " 147.06,\n",
       " 146.14,\n",
       " 146.09,\n",
       " 145.6,\n",
       " 145.86,\n",
       " 148.89,\n",
       " 149.1,\n",
       " 151.12,\n",
       " 150.19,\n",
       " 146.36,\n",
       " 146.7,\n",
       " 148.19,\n",
       " 149.71,\n",
       " 149.62,\n",
       " 148.36,\n",
       " 147.54,\n",
       " 148.6,\n",
       " 153.12,\n",
       " 151.83,\n",
       " 152.51,\n",
       " 153.65,\n",
       " 154.3,\n",
       " 156.69,\n",
       " 155.11,\n",
       " 154.07,\n",
       " 148.97,\n",
       " 149.55,\n",
       " 148.12,\n",
       " 149.03,\n",
       " 148.79]"
      ]
     },
     "execution_count": 43,
     "metadata": {},
     "output_type": "execute_result"
    }
   ],
   "source": [
    "get_stock_price_history('aapl')"
   ]
  },
  {
   "cell_type": "code",
   "execution_count": null,
   "id": "2e11c3ad",
   "metadata": {},
   "outputs": [],
   "source": []
  }
 ],
 "metadata": {
  "kernelspec": {
   "display_name": "Python 3 (ipykernel)",
   "language": "python",
   "name": "python3"
  },
  "language_info": {
   "codemirror_mode": {
    "name": "ipython",
    "version": 3
   },
   "file_extension": ".py",
   "mimetype": "text/x-python",
   "name": "python",
   "nbconvert_exporter": "python",
   "pygments_lexer": "ipython3",
   "version": "3.10.6"
  },
  "toc": {
   "base_numbering": 1,
   "nav_menu": {},
   "number_sections": true,
   "sideBar": true,
   "skip_h1_title": false,
   "title_cell": "Table of Contents",
   "title_sidebar": "Contents",
   "toc_cell": false,
   "toc_position": {},
   "toc_section_display": true,
   "toc_window_display": false
  }
 },
 "nbformat": 4,
 "nbformat_minor": 5
}
