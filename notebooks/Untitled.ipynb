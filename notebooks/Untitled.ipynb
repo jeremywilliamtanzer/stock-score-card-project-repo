{
 "cells": [
  {
   "cell_type": "code",
   "execution_count": 1,
   "id": "ecaf916e",
   "metadata": {},
   "outputs": [],
   "source": [
    "import requests\n",
    "POLY_KEY = 'wQ5FjyMjpTSO2j5vBxbLuIp72hwYd5E5'\n"
   ]
  },
  {
   "cell_type": "code",
   "execution_count": 2,
   "id": "4ea8cc96",
   "metadata": {},
   "outputs": [],
   "source": [
    "ticker = 'aapl'"
   ]
  },
  {
   "cell_type": "code",
   "execution_count": 3,
   "id": "1ccdf887",
   "metadata": {},
   "outputs": [],
   "source": [
    "def market_cap(tickers):\n",
    "    #change to uppercase\n",
    "    tickers = tickers.upper()\n",
    "    #instantiate url\n",
    "    url = f'https://api.polygon.io/vX/reference/tickers/{tickers}?apiKey={POLY_KEY}'\n",
    "    #response in .json\n",
    "    api = requests.get(url).json()\n",
    "    #get market cap + round to 2decimal and return in millions\n",
    "    mkt_cap = round((api['results']['market_cap'] / 1_000_000_000), 2)\n",
    "    return {'market_capitalization' : float(mkt_cap)}"
   ]
  },
  {
   "cell_type": "code",
   "execution_count": 5,
   "id": "1cd660f0",
   "metadata": {},
   "outputs": [
    {
     "data": {
      "text/plain": [
       "{'market_capitalization': 2497.18}"
      ]
     },
     "execution_count": 5,
     "metadata": {},
     "output_type": "execute_result"
    }
   ],
   "source": [
    "market_cap(ticker)"
   ]
  },
  {
   "cell_type": "markdown",
   "id": "5fadcb78",
   "metadata": {},
   "source": []
  }
 ],
 "metadata": {
  "kernelspec": {
   "display_name": "Python 3 (ipykernel)",
   "language": "python",
   "name": "python3"
  },
  "language_info": {
   "codemirror_mode": {
    "name": "ipython",
    "version": 3
   },
   "file_extension": ".py",
   "mimetype": "text/x-python",
   "name": "python",
   "nbconvert_exporter": "python",
   "pygments_lexer": "ipython3",
   "version": "3.10.6"
  },
  "toc": {
   "base_numbering": 1,
   "nav_menu": {},
   "number_sections": true,
   "sideBar": true,
   "skip_h1_title": false,
   "title_cell": "Table of Contents",
   "title_sidebar": "Contents",
   "toc_cell": false,
   "toc_position": {},
   "toc_section_display": true,
   "toc_window_display": false
  }
 },
 "nbformat": 4,
 "nbformat_minor": 5
}
