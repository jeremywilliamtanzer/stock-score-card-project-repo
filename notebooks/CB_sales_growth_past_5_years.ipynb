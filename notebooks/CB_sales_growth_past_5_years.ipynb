{
 "cells": [
  {
   "cell_type": "code",
   "execution_count": 143,
   "metadata": {},
   "outputs": [],
   "source": [
    "import requests\n",
    "from api_key import key\n",
    "from datetime import date\n",
    "from dateutil.relativedelta import relativedelta"
   ]
  },
  {
   "cell_type": "code",
   "execution_count": 144,
   "metadata": {},
   "outputs": [
    {
     "name": "stdout",
     "output_type": "stream",
     "text": [
      "Calling the API for AAPL...\n",
      "The sales growth of AAPL in the last 5 years has been 48.47%\n"
     ]
    }
   ],
   "source": [
    "tickers = (input('Input short stock name: '),)\n",
    "\n",
    "report_date_1 = date.today()\n",
    "report_date_2 = date.today()- relativedelta(years=4)\n",
    "\n",
    "timespan = 'annual'\n",
    "year = 5\n",
    "\n",
    "def get_aggregates(tickers):\n",
    "    \"\"\"Get revenue growth for given stocks\n",
    "    over a 5 year date range in yearly timespan meaning comparing the revenue of last year\n",
    "    compared to the revenue of (last year - 4).\n",
    "    Being in March 2023 we would compare yearly revenue from 2022 with yearly revenue from 2018.\n",
    "    \"\"\"\n",
    "    for ticker in tickers:\n",
    "        print(f'Calling the API for {ticker}...')\n",
    "        url_1 = f'https://api.polygon.io/vX/reference/financials?ticker={ticker}&period_of_report_date.lte={report_date_1}&timeframe={timespan}&include_sources=true&apiKey={key}'\n",
    "        url_2 = f'https://api.polygon.io/vX/reference/financials?ticker={ticker}&period_of_report_date.lte={report_date_2}&timeframe={timespan}&include_sources=true&apiKey={key}'\n",
    "        response_1 = requests.get(url_1).json()\n",
    "        revenue_1 = response_1['results'][0]['financials']['income_statement']['revenues']['value']\n",
    "        response_2 = requests.get(url_2).json()\n",
    "        revenue_2 = response_2['results'][0]['financials']['income_statement']['revenues']['value']\n",
    "        sales_growth = ((revenue_1/revenue_2)-1)*100\n",
    "        print(f'The sales growth of {ticker} in the last {year} years has been {round(sales_growth,2)}%')\n",
    "        return sales_growth\n"
   ]
  },
  {
   "cell_type": "code",
   "execution_count": null,
   "metadata": {},
   "outputs": [],
   "source": []
  }
 ],
 "metadata": {
  "kernelspec": {
   "display_name": "stock-env",
   "language": "python",
   "name": "python3"
  },
  "language_info": {
   "codemirror_mode": {
    "name": "ipython",
    "version": 3
   },
   "file_extension": ".py",
   "mimetype": "text/x-python",
   "name": "python",
   "nbconvert_exporter": "python",
   "pygments_lexer": "ipython3",
   "version": "3.10.6"
  },
  "orig_nbformat": 4
 },
 "nbformat": 4,
 "nbformat_minor": 2
}
