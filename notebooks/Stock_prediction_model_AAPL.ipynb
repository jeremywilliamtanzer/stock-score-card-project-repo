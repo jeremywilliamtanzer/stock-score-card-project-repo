{
 "cells": [
  {
   "cell_type": "code",
   "execution_count": 4,
   "id": "48bc94ac",
   "metadata": {},
   "outputs": [],
   "source": [
    "import pandas as pd\n",
    "import numpy as np\n",
    "import requests\n",
    "# from api_key import key\n",
    "from datetime import date\n",
    "from dateutil.relativedelta import relativedelta"
   ]
  },
  {
   "cell_type": "code",
   "execution_count": 5,
   "id": "277545c2",
   "metadata": {},
   "outputs": [],
   "source": [
    "def get_stock_data(ticker, multiplier, timespan, from_date, to_date):\n",
    "    # Make the API request\n",
    "    api_url = f\"https://api.polygon.io/v2/aggs/ticker/{ticker}/range/{multiplier}/{timespan}/{from_date}/{to_date}\"\n",
    "    response = requests.get(api_url, params={\"apiKey\": \"wQ5FjyMjpTSO2j5vBxbLuIp72hwYd5E5\"})\n",
    "\n",
    "    # Check for errors\n",
    "    if response.status_code != 200:\n",
    "        raise Exception(f\"Error {response.status_code}: {response.text}\")\n",
    "\n",
    "    # Extract the data from the response\n",
    "    data = response.json()[\"results\"]\n",
    "    stock_data = []\n",
    "    for d in data:\n",
    "        stock_data.append({\n",
    "            \"Date\": pd.to_datetime(d[\"t\"], unit='ms').date(),\n",
    "            \"Open\": d[\"o\"],\n",
    "            \"High\": d[\"h\"],\n",
    "            \"Low\": d[\"l\"],\n",
    "            \"Close\": d[\"c\"],\n",
    "            \"Adj Close\": d[\"c\"],\n",
    "            \"Volume\": d[\"v\"],\n",
    "        })\n",
    "     \n",
    "     # Convert the data to a dataframe\n",
    "    df = pd.DataFrame(stock_data)\n",
    "    df = df.reset_index(drop=True)\n",
    "    \n",
    "    return df"
   ]
  },
  {
   "cell_type": "code",
   "execution_count": 6,
   "id": "578a0ec1",
   "metadata": {},
   "outputs": [
    {
     "data": {
      "text/html": [
       "<div>\n",
       "<style scoped>\n",
       "    .dataframe tbody tr th:only-of-type {\n",
       "        vertical-align: middle;\n",
       "    }\n",
       "\n",
       "    .dataframe tbody tr th {\n",
       "        vertical-align: top;\n",
       "    }\n",
       "\n",
       "    .dataframe thead th {\n",
       "        text-align: right;\n",
       "    }\n",
       "</style>\n",
       "<table border=\"1\" class=\"dataframe\">\n",
       "  <thead>\n",
       "    <tr style=\"text-align: right;\">\n",
       "      <th></th>\n",
       "      <th>Date</th>\n",
       "      <th>Open</th>\n",
       "      <th>High</th>\n",
       "      <th>Low</th>\n",
       "      <th>Close</th>\n",
       "      <th>Adj Close</th>\n",
       "      <th>Volume</th>\n",
       "    </tr>\n",
       "  </thead>\n",
       "  <tbody>\n",
       "    <tr>\n",
       "      <th>0</th>\n",
       "      <td>2021-03-26</td>\n",
       "      <td>120.35</td>\n",
       "      <td>121.4800</td>\n",
       "      <td>118.9200</td>\n",
       "      <td>121.210</td>\n",
       "      <td>121.210</td>\n",
       "      <td>94071234.0</td>\n",
       "    </tr>\n",
       "    <tr>\n",
       "      <th>1</th>\n",
       "      <td>2021-03-29</td>\n",
       "      <td>121.65</td>\n",
       "      <td>122.5800</td>\n",
       "      <td>120.7299</td>\n",
       "      <td>121.390</td>\n",
       "      <td>121.390</td>\n",
       "      <td>80819203.0</td>\n",
       "    </tr>\n",
       "    <tr>\n",
       "      <th>2</th>\n",
       "      <td>2021-03-30</td>\n",
       "      <td>120.11</td>\n",
       "      <td>120.4031</td>\n",
       "      <td>118.8600</td>\n",
       "      <td>119.900</td>\n",
       "      <td>119.900</td>\n",
       "      <td>84507919.0</td>\n",
       "    </tr>\n",
       "    <tr>\n",
       "      <th>3</th>\n",
       "      <td>2021-03-31</td>\n",
       "      <td>121.65</td>\n",
       "      <td>123.5200</td>\n",
       "      <td>121.1500</td>\n",
       "      <td>122.150</td>\n",
       "      <td>122.150</td>\n",
       "      <td>118323826.0</td>\n",
       "    </tr>\n",
       "    <tr>\n",
       "      <th>4</th>\n",
       "      <td>2021-04-01</td>\n",
       "      <td>123.66</td>\n",
       "      <td>124.1800</td>\n",
       "      <td>122.4900</td>\n",
       "      <td>123.000</td>\n",
       "      <td>123.000</td>\n",
       "      <td>75089134.0</td>\n",
       "    </tr>\n",
       "    <tr>\n",
       "      <th>5</th>\n",
       "      <td>2021-04-05</td>\n",
       "      <td>123.87</td>\n",
       "      <td>126.1601</td>\n",
       "      <td>123.0700</td>\n",
       "      <td>125.900</td>\n",
       "      <td>125.900</td>\n",
       "      <td>88251175.0</td>\n",
       "    </tr>\n",
       "    <tr>\n",
       "      <th>6</th>\n",
       "      <td>2021-04-06</td>\n",
       "      <td>126.50</td>\n",
       "      <td>127.1300</td>\n",
       "      <td>125.6500</td>\n",
       "      <td>126.210</td>\n",
       "      <td>126.210</td>\n",
       "      <td>80171253.0</td>\n",
       "    </tr>\n",
       "    <tr>\n",
       "      <th>7</th>\n",
       "      <td>2021-04-07</td>\n",
       "      <td>125.83</td>\n",
       "      <td>127.9200</td>\n",
       "      <td>125.1400</td>\n",
       "      <td>127.900</td>\n",
       "      <td>127.900</td>\n",
       "      <td>83256716.0</td>\n",
       "    </tr>\n",
       "    <tr>\n",
       "      <th>8</th>\n",
       "      <td>2021-04-08</td>\n",
       "      <td>128.95</td>\n",
       "      <td>130.3900</td>\n",
       "      <td>128.5200</td>\n",
       "      <td>130.360</td>\n",
       "      <td>130.360</td>\n",
       "      <td>88844591.0</td>\n",
       "    </tr>\n",
       "    <tr>\n",
       "      <th>9</th>\n",
       "      <td>2021-04-09</td>\n",
       "      <td>129.80</td>\n",
       "      <td>133.0400</td>\n",
       "      <td>129.4700</td>\n",
       "      <td>132.995</td>\n",
       "      <td>132.995</td>\n",
       "      <td>106615653.0</td>\n",
       "    </tr>\n",
       "  </tbody>\n",
       "</table>\n",
       "</div>"
      ],
      "text/plain": [
       "         Date    Open      High       Low    Close  Adj Close       Volume\n",
       "0  2021-03-26  120.35  121.4800  118.9200  121.210    121.210   94071234.0\n",
       "1  2021-03-29  121.65  122.5800  120.7299  121.390    121.390   80819203.0\n",
       "2  2021-03-30  120.11  120.4031  118.8600  119.900    119.900   84507919.0\n",
       "3  2021-03-31  121.65  123.5200  121.1500  122.150    122.150  118323826.0\n",
       "4  2021-04-01  123.66  124.1800  122.4900  123.000    123.000   75089134.0\n",
       "5  2021-04-05  123.87  126.1601  123.0700  125.900    125.900   88251175.0\n",
       "6  2021-04-06  126.50  127.1300  125.6500  126.210    126.210   80171253.0\n",
       "7  2021-04-07  125.83  127.9200  125.1400  127.900    127.900   83256716.0\n",
       "8  2021-04-08  128.95  130.3900  128.5200  130.360    130.360   88844591.0\n",
       "9  2021-04-09  129.80  133.0400  129.4700  132.995    132.995  106615653.0"
      ]
     },
     "execution_count": 6,
     "metadata": {},
     "output_type": "execute_result"
    }
   ],
   "source": [
    "data = get_stock_data('AAPL', 1, 'day', '2021-02-28', '2023-02-28')\n",
    "\n",
    "data.head(10)"
   ]
  },
  {
   "cell_type": "code",
   "execution_count": 7,
   "id": "793c4396",
   "metadata": {},
   "outputs": [
    {
     "name": "stdout",
     "output_type": "stream",
     "text": [
      "<class 'pandas.core.frame.DataFrame'>\n",
      "RangeIndex: 485 entries, 0 to 484\n",
      "Data columns (total 7 columns):\n",
      " #   Column     Non-Null Count  Dtype  \n",
      "---  ------     --------------  -----  \n",
      " 0   Date       485 non-null    object \n",
      " 1   Open       485 non-null    float64\n",
      " 2   High       485 non-null    float64\n",
      " 3   Low        485 non-null    float64\n",
      " 4   Close      485 non-null    float64\n",
      " 5   Adj Close  485 non-null    float64\n",
      " 6   Volume     485 non-null    float64\n",
      "dtypes: float64(6), object(1)\n",
      "memory usage: 26.6+ KB\n"
     ]
    }
   ],
   "source": [
    "data.info()"
   ]
  },
  {
   "cell_type": "code",
   "execution_count": 8,
   "id": "e296fe84",
   "metadata": {},
   "outputs": [],
   "source": [
    "split = int(round(data.size*0.7,0))\n",
    "train_size = split\n",
    "test_size = data.size - split\n",
    "\n",
    "data_train = data[:split]\n",
    "data_test = data[split:]"
   ]
  },
  {
   "cell_type": "code",
   "execution_count": 16,
   "id": "c5eb4ced",
   "metadata": {},
   "outputs": [
    {
     "data": {
      "text/plain": [
       "(       High     Low   Close      Volume\n",
       " 311  137.06  133.32  135.87  81000488.0\n",
       " 312  137.76  133.91  135.35  73409234.0\n",
       " 313  138.59  135.63  138.27  72433768.0,\n",
       " 141.66)"
      ]
     },
     "execution_count": 16,
     "metadata": {},
     "output_type": "execute_result"
    }
   ],
   "source": [
    "def subsample_sequence(sequence, length, horizon):\n",
    "\n",
    "    # Bounds of sampling\n",
    "    last_possible = len(sequence) - length - horizon\n",
    "    random_start = np.random.randint(0, last_possible)\n",
    "\n",
    "    # Sample\n",
    "    X = sequence[random_start:random_start +length].drop(columns=['Open','Date', 'Adj Close']) # Remove target closing price & date\n",
    "    y = sequence.loc[random_start+length+horizon-1]['Close'] # Target is closing price\n",
    "\n",
    "    return X, y\n",
    "\n",
    "\n",
    "subsample_sequence(data, 3, 1)"
   ]
  },
  {
   "cell_type": "code",
   "execution_count": 10,
   "id": "685f90bf",
   "metadata": {},
   "outputs": [],
   "source": [
    "def get_X_y(sequence, length, horizon, number_of_samples):\n",
    "    \n",
    "    X, y = [], []\n",
    "    \n",
    "    # Do as many samples as specified\n",
    "    for sample in range(1,number_of_samples + 1):\n",
    "        \n",
    "        # Record sample X & y\n",
    "        xi, yi = subsample_sequence(sequence, length, horizon)\n",
    "        X.append(np.array(xi.values.T.tolist()).T) # Getting the right shape (sequences, observations,features)\n",
    "        y.append(yi)\n",
    "\n",
    "    return np.array(X), np.array(y)"
   ]
  },
  {
   "cell_type": "code",
   "execution_count": 18,
   "id": "544448dd",
   "metadata": {},
   "outputs": [],
   "source": [
    "X_train, y_train = get_X_y(sequence=data_train,\n",
    "               length=100,\n",
    "               horizon=1,\n",
    "               number_of_samples=10000)"
   ]
  },
  {
   "cell_type": "code",
   "execution_count": 19,
   "id": "b75def6a",
   "metadata": {},
   "outputs": [
    {
     "data": {
      "text/plain": [
       "(10000, 100, 4)"
      ]
     },
     "execution_count": 19,
     "metadata": {},
     "output_type": "execute_result"
    }
   ],
   "source": [
    "# 10000 subsamples, each of lenght 100 , each containg 4 features\n",
    "X_train.shape"
   ]
  },
  {
   "cell_type": "code",
   "execution_count": 20,
   "id": "5dbbccc6",
   "metadata": {},
   "outputs": [],
   "source": [
    "y_train = y_train.reshape(10000,1)"
   ]
  },
  {
   "cell_type": "code",
   "execution_count": null,
   "id": "77624f5e",
   "metadata": {},
   "outputs": [],
   "source": [
    "from tensorflow.keras import models\n",
    "from tensorflow.keras import layers\n",
    "\n",
    "def init_model():\n",
    "\n",
    "    model = models.Sequential()\n",
    "\n",
    "    model.add(layers.LSTM(15, return_sequences=True, activation='tanh', input_shape=(100,4)))\n",
    "    model.add(layers.LSTM(20, return_sequences=True, activation='tanh'))\n",
    "    model.add(layers.LSTM(15, return_sequences=True, activation='tanh'))\n",
    "    model.add(layers.Dense(10, activation='relu'))\n",
    "    model.add(layers.Dense(1, activation='linear'))\n",
    "\n",
    "    model.compile(loss='mse',\n",
    "                  optimizer='rmsprop',\n",
    "                  metrics=['mae'])\n",
    "\n",
    "\n",
    "    return model\n",
    "\n",
    "init_model().summary()"
   ]
  },
  {
   "cell_type": "code",
   "execution_count": 49,
   "id": "a57eaff1",
   "metadata": {},
   "outputs": [
    {
     "name": "stdout",
     "output_type": "stream",
     "text": [
      "Epoch 1/8\n",
      "500/500 [==============================] - 13s 22ms/step - loss: 18263.5371 - mae: 134.0073 - val_loss: 12576.9932 - val_mae: 111.4100\n",
      "Epoch 2/8\n",
      "500/500 [==============================] - 11s 22ms/step - loss: 6928.1128 - mae: 79.7247 - val_loss: 1966.5253 - val_mae: 42.3846\n",
      "Epoch 3/8\n",
      "500/500 [==============================] - 11s 22ms/step - loss: 482.6674 - mae: 17.1270 - val_loss: 175.7111 - val_mae: 10.8601\n",
      "Epoch 4/8\n",
      "500/500 [==============================] - 11s 22ms/step - loss: 177.7767 - mae: 10.9767 - val_loss: 176.2204 - val_mae: 10.9739\n",
      "Epoch 5/8\n",
      "500/500 [==============================] - 10s 21ms/step - loss: 178.0064 - mae: 10.9976 - val_loss: 175.7184 - val_mae: 10.8806\n",
      "Epoch 6/8\n",
      "500/500 [==============================] - 10s 21ms/step - loss: 177.8316 - mae: 10.9821 - val_loss: 175.6906 - val_mae: 10.8192\n",
      "Epoch 7/8\n",
      "500/500 [==============================] - 11s 21ms/step - loss: 177.9033 - mae: 10.9842 - val_loss: 175.8321 - val_mae: 10.9193\n",
      "Epoch 8/8\n",
      "500/500 [==============================] - 11s 21ms/step - loss: 177.6795 - mae: 10.9819 - val_loss: 175.6700 - val_mae: 10.8154\n"
     ]
    },
    {
     "data": {
      "text/plain": [
       "<keras.callbacks.History at 0x2e96b7dc0>"
      ]
     },
     "execution_count": 49,
     "metadata": {},
     "output_type": "execute_result"
    }
   ],
   "source": [
    "from tensorflow.keras.callbacks import EarlyStopping\n",
    "model = init_model()\n",
    "\n",
    "es = EarlyStopping(patience=20)\n",
    "\n",
    "model.fit(X_train, y_train, \n",
    "          epochs=8, \n",
    "          batch_size=16, \n",
    "          verbose=1, \n",
    "          callbacks = [es],\n",
    "          validation_split=0.2)"
   ]
  },
  {
   "cell_type": "code",
   "execution_count": null,
   "id": "4e681623",
   "metadata": {},
   "outputs": [],
   "source": []
  },
  {
   "cell_type": "code",
   "execution_count": null,
   "id": "a30a9682",
   "metadata": {},
   "outputs": [],
   "source": []
  }
 ],
 "metadata": {
  "kernelspec": {
   "display_name": "Python 3 (ipykernel)",
   "language": "python",
   "name": "python3"
  },
  "language_info": {
   "codemirror_mode": {
    "name": "ipython",
    "version": 3
   },
   "file_extension": ".py",
   "mimetype": "text/x-python",
   "name": "python",
   "nbconvert_exporter": "python",
   "pygments_lexer": "ipython3",
   "version": "3.10.6"
  },
  "toc": {
   "base_numbering": 1,
   "nav_menu": {},
   "number_sections": true,
   "sideBar": true,
   "skip_h1_title": false,
   "title_cell": "Table of Contents",
   "title_sidebar": "Contents",
   "toc_cell": false,
   "toc_position": {},
   "toc_section_display": true,
   "toc_window_display": false
  }
 },
 "nbformat": 4,
 "nbformat_minor": 5
}
