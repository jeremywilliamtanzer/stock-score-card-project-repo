{
 "cells": [
  {
   "cell_type": "code",
   "execution_count": 25,
   "id": "07810438",
   "metadata": {},
   "outputs": [],
   "source": [
    "import pandas as pd\n",
    "import requests\n",
    "alphavantage_key = \"7QD6TN4TDCX63BZ6\"\n",
    "ticker = \"aapl\"\n",
    "months = {\"January\":\"01\", \"February\": \"02\", \"March\":\"03\", \"April\": \"04\", \"May\": \"05\",\n",
    " \"June\": \"06\", \"July\": \"07\", \"August\": \"08\", \"September\": \"09\", \"October\": \"10\",\n",
    " \"November\": \"11\", \"December\": \"12\"}"
   ]
  },
  {
   "cell_type": "code",
   "execution_count": 29,
   "id": "52c75f1c",
   "metadata": {},
   "outputs": [],
   "source": [
    "def get_ratios(tickers):\n",
    "    # Get dividend yield, payout ratio and EPS next 1Y from Overview tab on Alphavantage API\n",
    "    url_overview = 'https://www.alphavantage.co/query?function=OVERVIEW&symbol=' + ticker + '&apikey=' + alphavantage_key\n",
    "    overview = requests.get(url_overview).json()\n",
    "    \n",
    "    #Divident Yield:\n",
    "    Dividend_yield = round(float(overview['DividendYield'])*100,2)\n",
    "    print(\"Dividend Yield: \"+ str(Dividend_yield)+ \"%\")\n",
    "    \n",
    "    #Payout ratio:\n",
    "    Payout_ratio = round(float(overview['DividendPerShare'])/float(overview['EPS'])*100,2)\n",
    "    print(\"Payout Ratio: \" + str(Payout_ratio)+ \"%\")\n",
    "    \n",
    "    #EPS next 1Y (we get EPS next 1Y from Forward PE formula which is current price/1Y EPS):\n",
    "    EPS_next_1Y = round(float(overview['ForwardPE'])/(float(overview['EPS'])*float(overview['PERatio']))*100,2)\n",
    "    print(\"EPS next 1Y: \"+ str(EPS_next_1Y) + \"%\")\n",
    "    \n",
    "    # Get EPS past 5Y from alphavantage API on tab earnings we need the if function because \n",
    "    #the first result shown in earnings is only annual if the last quarter is the same as the annual results quarter\n",
    "    url_earnings = 'https://www.alphavantage.co/query?function=EARNINGS&symbol=' + ticker + '&apikey=' + alphavantage_key\n",
    "    earnings = requests.get(url_earnings).json()\n",
    "    if earnings['annualEarnings'][0]['fiscalDateEnding'][5:7] == months[overview['FiscalYearEnd']]:\n",
    "        last_EPS = float(earnings['annualEarnings'][0]['reportedEPS'])\n",
    "        five_years_EPS = float(earnings['annualEarnings'][4]['reportedEPS'])\n",
    "    else:\n",
    "        last_EPS = float(earnings['annualEarnings'][1]['reportedEPS'])\n",
    "        five_years_EPS = float(earnings['annualEarnings'][5]['reportedEPS'])\n",
    "    if last_EPS/five_years_EPS>0:\n",
    "        EPS_past_5Y = round((((last_EPS/five_years_EPS)**0.2)-1)*100,2)\n",
    "    elif last_EPS<0:\n",
    "        EPS_past_5Y =round((((abs(last_EPS/five_years_EPS)**0.2))-1)*-100,2)\n",
    "    else: EPS_past_5Y =round((((abs(last_EPS/five_years_EPS)**0.2))-1)*100,2)\n",
    "    print(\"EPS past 5Y: \"+ str(EPS_past_5Y) +\"%\" )\n",
    "    \n",
    "    #Get Debt/FCF from Alphavantage API on tabs CF statement and BS statement\n",
    "    url_cf = 'https://www.alphavantage.co/query?function=CASH_FLOW&symbol=' + ticker + '&apikey=' + alphavantage_key\n",
    "    cf = requests.get(url_cf).json()\n",
    "    url_balance = 'https://www.alphavantage.co/query?function=BALANCE_SHEET&symbol=' + ticker + '&apikey=' + alphavantage_key\n",
    "    balance = requests.get(url_balance).json()\n",
    "    Debt = float(balance['annualReports'][0]['longTermDebt'])+float(balance['annualReports'][0]['currentDebt'])\n",
    "    Operating_cf = float(cf['annualReports'][0]['operatingCashflow'])\n",
    "    Debt_over_FCF = round(Debt/Operating_cf,2)\n",
    "    print(\"Debt/FCF: \"+ str(Debt_over_FCF) +\" years\" )\n",
    "    \n",
    "    #Return on Equity\n",
    "    url_income = 'https://www.alphavantage.co/query?function=INCOME_STATEMENT&symbol=' + ticker + '&apikey=' + alphavantage_key\n",
    "    income = requests.get(url_income).json()\n",
    "    current_net_income = float(income['annualReports'][0]['netIncome'])\n",
    "    five_years_old_net_income = float(income['annualReports'][4]['netIncome'])\n",
    "    current_equity = float(balance['annualReports'][0]['commonStock'])\n",
    "    five_years_old_equity = float(balance['annualReports'][4]['commonStock'])\n",
    "    return_on_equity_past_five_years = round(((current_net_income/current_equity)/(five_years_old_net_income/five_years_old_equity)-1),4)*100\n",
    "    print(\"ROE past 5Y: \"+ str(return_on_equity_past_five_years) +\"%\")\n",
    "\n",
    "    return\n"
   ]
  },
  {
   "cell_type": "code",
   "execution_count": 30,
   "id": "0cdd76eb",
   "metadata": {
    "scrolled": false
   },
   "outputs": [
    {
     "name": "stdout",
     "output_type": "stream",
     "text": [
      "Dividend Yield: 0.6%\n",
      "Payout Ratio: 15.4%\n",
      "EPS next 1Y: 14.82%\n",
      "EPS past 5Y: 15.52%\n",
      "Debt/FCF: 1.08 years\n",
      "ROE past 5Y: 3.93%\n"
     ]
    }
   ],
   "source": [
    "get_ratios('mmm')"
   ]
  }
 ],
 "metadata": {
  "kernelspec": {
   "display_name": "Python 3 (ipykernel)",
   "language": "python",
   "name": "python3"
  },
  "language_info": {
   "codemirror_mode": {
    "name": "ipython",
    "version": 3
   },
   "file_extension": ".py",
   "mimetype": "text/x-python",
   "name": "python",
   "nbconvert_exporter": "python",
   "pygments_lexer": "ipython3",
   "version": "3.10.6"
  },
  "toc": {
   "base_numbering": 1,
   "nav_menu": {},
   "number_sections": true,
   "sideBar": true,
   "skip_h1_title": false,
   "title_cell": "Table of Contents",
   "title_sidebar": "Contents",
   "toc_cell": false,
   "toc_position": {},
   "toc_section_display": true,
   "toc_window_display": false
  },
  "varInspector": {
   "cols": {
    "lenName": 16,
    "lenType": 16,
    "lenVar": 40
   },
   "kernels_config": {
    "python": {
     "delete_cmd_postfix": "",
     "delete_cmd_prefix": "del ",
     "library": "var_list.py",
     "varRefreshCmd": "print(var_dic_list())"
    },
    "r": {
     "delete_cmd_postfix": ") ",
     "delete_cmd_prefix": "rm(",
     "library": "var_list.r",
     "varRefreshCmd": "cat(var_dic_list()) "
    }
   },
   "types_to_exclude": [
    "module",
    "function",
    "builtin_function_or_method",
    "instance",
    "_Feature"
   ],
   "window_display": false
  }
 },
 "nbformat": 4,
 "nbformat_minor": 5
}
