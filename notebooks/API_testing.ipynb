{
 "cells": [
  {
   "cell_type": "code",
   "execution_count": 44,
   "id": "5dedeec7",
   "metadata": {},
   "outputs": [],
   "source": [
    "import requests\n",
    "import pandas as pd\n",
    "import matplotlib.pyplot as plt\n",
    "import seaborn as sns\n",
    "from datetime import date\n",
    "from dateutil.relativedelta import relativedelta\n",
    "\n",
    "report_date_2 = date.today()- relativedelta(years=4)"
   ]
  },
  {
   "cell_type": "code",
   "execution_count": 2,
   "id": "061db832",
   "metadata": {},
   "outputs": [],
   "source": [
    "# copy API key\n",
    "key = 'wQ5FjyMjpTSO2j5vBxbLuIp72hwYd5E5' # key for stock value request\n",
    "api_key = 'rW1fMPt5T8N4lrq6J4HM58LKZj1VBoPl' # key for company fundamentals request"
   ]
  },
  {
   "cell_type": "markdown",
   "id": "fb9b235a",
   "metadata": {},
   "source": [
    "## Parameters"
   ]
  },
  {
   "cell_type": "code",
   "execution_count": 48,
   "id": "218e96f7",
   "metadata": {},
   "outputs": [],
   "source": [
    "tickers = ['AAPL']\n",
    "timespan = 'day'\n",
    "multiplier = 1 #timespan multiplier e.g. 5 for five days\n",
    "today = str(datetime.datetime.today()).split()[0]\n",
    "pastXyears = str(date.today() - relativedelta(years=5))"
   ]
  },
  {
   "cell_type": "code",
   "execution_count": 49,
   "id": "99f8ea67",
   "metadata": {},
   "outputs": [
    {
     "data": {
      "text/plain": [
       "'2018-03-16'"
      ]
     },
     "execution_count": 49,
     "metadata": {},
     "output_type": "execute_result"
    }
   ],
   "source": [
    "pastXyears"
   ]
  },
  {
   "cell_type": "code",
   "execution_count": 4,
   "id": "8f7c0121",
   "metadata": {},
   "outputs": [],
   "source": [
    "# tickers = (input('Input short stock name: '),)\n",
    "start_date = '2022-01-01'\n",
    "end_date = '2023-01-01'\n",
    "timespan = 'year'"
   ]
  },
  {
   "cell_type": "code",
   "execution_count": 5,
   "id": "3b0fd1de",
   "metadata": {},
   "outputs": [],
   "source": [
    "def get_aggregates(tickers):\n",
    "    \"\"\"Get aggregate bars for a stock\n",
    "    over a given date range in custom time window sizes.\n",
    "    \"\"\"\n",
    "    for ticker in tickers:\n",
    "        print(f'Calling the API for {ticker}:')\n",
    "        url = f'https://api.polygon.io/v2/aggs/ticker/{ticker}/range/1/{timespan}/{start_date}/{end_date}?adjusted=true&sort=asc&limit=120&apiKey={key}'\n",
    "        response = requests.get(url).json()\n",
    "        df = pd.DataFrame(response['results'])\n",
    "        print(df)"
   ]
  },
  {
   "cell_type": "code",
   "execution_count": 6,
   "id": "a8165fab",
   "metadata": {},
   "outputs": [
    {
     "name": "stdout",
     "output_type": "stream",
     "text": [
      "Calling the API for AAPL:\n",
      "              v        vw       o       c       h       l              t  \\\n",
      "0  1.144649e+10  159.7132  177.83  141.66  182.94  129.04  1641013200000   \n",
      "\n",
      "          n  \n",
      "0  95704612  \n"
     ]
    }
   ],
   "source": [
    "get_aggregates(tickers)"
   ]
  },
  {
   "cell_type": "code",
   "execution_count": 7,
   "id": "37f82e18",
   "metadata": {},
   "outputs": [],
   "source": [
    "ticker = tickers[0]\n",
    "url = f'https://api.polygon.io/vX/reference/financials?ticker={ticker}&timeframe=quarterly&include_sources=true&apiKey={api_key}'\n",
    "\n",
    "fundamentals = requests.get(url).json()"
   ]
  },
  {
   "cell_type": "code",
   "execution_count": 8,
   "id": "958ff372",
   "metadata": {},
   "outputs": [],
   "source": [
    "fundam_df = pd.DataFrame.from_dict(fundamentals['results'][0]['financials']['income_statement']).T.sort_values(by = 'order')"
   ]
  },
  {
   "cell_type": "code",
   "execution_count": 9,
   "id": "fb2cc1a5",
   "metadata": {},
   "outputs": [
    {
     "data": {
      "text/html": [
       "<div>\n",
       "<style scoped>\n",
       "    .dataframe tbody tr th:only-of-type {\n",
       "        vertical-align: middle;\n",
       "    }\n",
       "\n",
       "    .dataframe tbody tr th {\n",
       "        vertical-align: top;\n",
       "    }\n",
       "\n",
       "    .dataframe thead th {\n",
       "        text-align: right;\n",
       "    }\n",
       "</style>\n",
       "<table border=\"1\" class=\"dataframe\">\n",
       "  <thead>\n",
       "    <tr style=\"text-align: right;\">\n",
       "      <th></th>\n",
       "      <th>value</th>\n",
       "      <th>unit</th>\n",
       "      <th>label</th>\n",
       "      <th>order</th>\n",
       "      <th>source</th>\n",
       "      <th>xpath</th>\n",
       "      <th>formula</th>\n",
       "    </tr>\n",
       "  </thead>\n",
       "  <tbody>\n",
       "    <tr>\n",
       "      <th>revenues</th>\n",
       "      <td>117154000000.0</td>\n",
       "      <td>USD</td>\n",
       "      <td>Revenues</td>\n",
       "      <td>100</td>\n",
       "      <td>direct_report</td>\n",
       "      <td>//*[local-name()='RevenueFromContractWithCusto...</td>\n",
       "      <td>NaN</td>\n",
       "    </tr>\n",
       "    <tr>\n",
       "      <th>benefits_costs_expenses</th>\n",
       "      <td>81531000000.0</td>\n",
       "      <td>USD</td>\n",
       "      <td>Benefits Costs and Expenses</td>\n",
       "      <td>200</td>\n",
       "      <td>intra_report_impute</td>\n",
       "      <td>NaN</td>\n",
       "      <td>IS-Impute-202</td>\n",
       "    </tr>\n",
       "  </tbody>\n",
       "</table>\n",
       "</div>"
      ],
      "text/plain": [
       "                                  value unit                        label  \\\n",
       "revenues                 117154000000.0  USD                     Revenues   \n",
       "benefits_costs_expenses   81531000000.0  USD  Benefits Costs and Expenses   \n",
       "\n",
       "                        order               source  \\\n",
       "revenues                  100        direct_report   \n",
       "benefits_costs_expenses   200  intra_report_impute   \n",
       "\n",
       "                                                                     xpath  \\\n",
       "revenues                 //*[local-name()='RevenueFromContractWithCusto...   \n",
       "benefits_costs_expenses                                                NaN   \n",
       "\n",
       "                               formula  \n",
       "revenues                           NaN  \n",
       "benefits_costs_expenses  IS-Impute-202  "
      ]
     },
     "execution_count": 9,
     "metadata": {},
     "output_type": "execute_result"
    }
   ],
   "source": [
    "fundam_df.iloc[0:2,:]"
   ]
  },
  {
   "cell_type": "code",
   "execution_count": 10,
   "id": "84d5b6b8",
   "metadata": {},
   "outputs": [
    {
     "data": {
      "text/plain": [
       "'2022-09-25'"
      ]
     },
     "execution_count": 10,
     "metadata": {},
     "output_type": "execute_result"
    }
   ],
   "source": [
    "fundamentals['results'][0]['start_date']"
   ]
  },
  {
   "cell_type": "code",
   "execution_count": 11,
   "id": "fe82593a",
   "metadata": {},
   "outputs": [],
   "source": [
    "mer = pd.DataFrame.from_dict(fundamentals['results'][0]['financials']['income_statement'])"
   ]
  },
  {
   "cell_type": "code",
   "execution_count": 12,
   "id": "82d87216",
   "metadata": {},
   "outputs": [
    {
     "data": {
      "text/plain": [
       "value                                                   1.88\n",
       "unit                                            USD / shares\n",
       "label                             Diluted Earnings Per Share\n",
       "order                                                   4300\n",
       "source                                         direct_report\n",
       "xpath      //*[local-name()='EarningsPerShareDiluted' and...\n",
       "formula                                                  NaN\n",
       "Name: diluted_earnings_per_share, dtype: object"
      ]
     },
     "execution_count": 12,
     "metadata": {},
     "output_type": "execute_result"
    }
   ],
   "source": [
    "mer.diluted_earnings_per_share"
   ]
  },
  {
   "cell_type": "markdown",
   "id": "bef7fd77",
   "metadata": {},
   "source": [
    "## EPS"
   ]
  },
  {
   "cell_type": "code",
   "execution_count": 13,
   "id": "2f8b08ec",
   "metadata": {},
   "outputs": [],
   "source": [
    "def get_eps(ticker):\n",
    "    \"\"\"\n",
    "    Gets the diluted_earnings_per_share value for \n",
    "    last quarter for the selected ticker\n",
    "    \"\"\"\n",
    "    url = f'https://api.polygon.io/vX/reference/financials?ticker={ticker}&timeframe=quarterly&include_sources=true&apiKey={api_key}'\n",
    "\n",
    "    fundamentals = requests.get(url).json()\n",
    "    fundamentals_df = pd.DataFrame.from_dict(fundamentals['results'][0]['financials']['income_statement'])\n",
    "    eps = fundamentals_df.diluted_earnings_per_share.value\n",
    "    return eps"
   ]
  },
  {
   "cell_type": "code",
   "execution_count": 14,
   "id": "3ed7d28b",
   "metadata": {},
   "outputs": [
    {
     "data": {
      "text/plain": [
       "1.0700000000000003"
      ]
     },
     "execution_count": 14,
     "metadata": {},
     "output_type": "execute_result"
    }
   ],
   "source": [
    "get_eps('TSLA')"
   ]
  },
  {
   "cell_type": "markdown",
   "id": "cd1ae333",
   "metadata": {},
   "source": [
    "## test price history\n"
   ]
  },
  {
   "cell_type": "code",
   "execution_count": 50,
   "id": "9dcb3a01",
   "metadata": {},
   "outputs": [],
   "source": [
    "tickers = ['AAPL']\n",
    "timespan = 'day'\n",
    "multiplier = 1 #timespan multiplier e.g. 5 for five days\n",
    "today = str(datetime.datetime.today()).split()[0]\n",
    "pastXyears = str(date.today() - relativedelta(years=5))\n",
    "limit = 5000"
   ]
  },
  {
   "cell_type": "code",
   "execution_count": 59,
   "id": "df6374b5",
   "metadata": {},
   "outputs": [],
   "source": [
    "urlX = f'https://api.polygon.io/v2/aggs/ticker/{tickers}/range/{multiplier}/{timespan}/{pastXyears}/{today}?adjusted=true&limit={limit}&apiKey=cSIE1gb5QulXNgxcXLte4VLS1f5tg9Oh'"
   ]
  },
  {
   "cell_type": "code",
   "execution_count": 60,
   "id": "c3f9255d",
   "metadata": {},
   "outputs": [],
   "source": [
    "phist = requests.get(urlX).json()"
   ]
  },
  {
   "cell_type": "code",
   "execution_count": 62,
   "id": "5f0877f9",
   "metadata": {},
   "outputs": [
    {
     "data": {
      "text/plain": [
       "{'ticker': \"['AAPL']\",\n",
       " 'queryCount': 0,\n",
       " 'resultsCount': 0,\n",
       " 'adjusted': True,\n",
       " 'status': 'DELAYED',\n",
       " 'request_id': '6e5e51e9b68730ed1ed71de4d8116dad'}"
      ]
     },
     "execution_count": 62,
     "metadata": {},
     "output_type": "execute_result"
    }
   ],
   "source": [
    "phist"
   ]
  },
  {
   "cell_type": "code",
   "execution_count": 61,
   "id": "fcc8adb4",
   "metadata": {},
   "outputs": [
    {
     "ename": "KeyError",
     "evalue": "'results'",
     "output_type": "error",
     "traceback": [
      "\u001b[0;31m---------------------------------------------------------------------------\u001b[0m",
      "\u001b[0;31mKeyError\u001b[0m                                  Traceback (most recent call last)",
      "Cell \u001b[0;32mIn[61], line 1\u001b[0m\n\u001b[0;32m----> 1\u001b[0m close \u001b[38;5;241m=\u001b[39m [elem[\u001b[38;5;124m'\u001b[39m\u001b[38;5;124mc\u001b[39m\u001b[38;5;124m'\u001b[39m] \u001b[38;5;28;01mfor\u001b[39;00m elem \u001b[38;5;129;01min\u001b[39;00m \u001b[43mphist\u001b[49m\u001b[43m[\u001b[49m\u001b[38;5;124;43m'\u001b[39;49m\u001b[38;5;124;43mresults\u001b[39;49m\u001b[38;5;124;43m'\u001b[39;49m\u001b[43m]\u001b[49m]\n\u001b[1;32m      2\u001b[0m close\n",
      "\u001b[0;31mKeyError\u001b[0m: 'results'"
     ]
    }
   ],
   "source": [
    "close = [elem['c'] for elem in phist['results']]\n",
    "close"
   ]
  },
  {
   "cell_type": "code",
   "execution_count": 24,
   "id": "438797c3",
   "metadata": {},
   "outputs": [],
   "source": [
    "urlY = 'https://api.polygon.io/v2/aggs/ticker/AAPL/range/1/week/2021-01-09/2023-01-09?adjusted=true&sort=asc&limit=5000&apiKey=cSIE1gb5QulXNgxcXLte4VLS1f5tg9Oh'"
   ]
  },
  {
   "cell_type": "code",
   "execution_count": 25,
   "id": "bb8e0c6d",
   "metadata": {},
   "outputs": [],
   "source": [
    "phisty = requests.get(urlY).json()"
   ]
  },
  {
   "cell_type": "code",
   "execution_count": 29,
   "id": "ae750962",
   "metadata": {},
   "outputs": [
    {
     "data": {
      "text/plain": [
       "96"
      ]
     },
     "execution_count": 29,
     "metadata": {},
     "output_type": "execute_result"
    }
   ],
   "source": [
    "close = [elem['c'] for elem in phisty['results']]\n",
    "len(close)"
   ]
  },
  {
   "cell_type": "code",
   "execution_count": 32,
   "id": "7a86d4d0",
   "metadata": {},
   "outputs": [
    {
     "data": {
      "text/plain": [
       "range(0, 96)"
      ]
     },
     "execution_count": 32,
     "metadata": {},
     "output_type": "execute_result"
    }
   ],
   "source": [
    "range(0,len(close))"
   ]
  },
  {
   "cell_type": "code",
   "execution_count": 36,
   "id": "675e3e0c",
   "metadata": {},
   "outputs": [],
   "source": [
    "X = [_ for _ in range(0,len(close))]"
   ]
  },
  {
   "cell_type": "code",
   "execution_count": 40,
   "id": "4a49dbf7",
   "metadata": {},
   "outputs": [
    {
     "data": {
      "text/plain": [
       "[<matplotlib.lines.Line2D at 0x7f00bb41f2e0>]"
      ]
     },
     "execution_count": 40,
     "metadata": {},
     "output_type": "execute_result"
    },
    {
     "data": {
      "image/png": "[encoded data removed]",
      "text/plain": [
       "<Figure size 640x480 with 1 Axes>"
      ]
     },
     "metadata": {},
     "output_type": "display_data"
    }
   ],
   "source": [
    "plt.plot(X, close)"
   ]
  }
 ],
 "metadata": {
  "kernelspec": {
   "display_name": "Python 3 (ipykernel)",
   "language": "python",
   "name": "python3"
  },
  "language_info": {
   "codemirror_mode": {
    "name": "ipython",
    "version": 3
   },
   "file_extension": ".py",
   "mimetype": "text/x-python",
   "name": "python",
   "nbconvert_exporter": "python",
   "pygments_lexer": "ipython3",
   "version": "3.10.6"
  },
  "toc": {
   "base_numbering": 1,
   "nav_menu": {},
   "number_sections": true,
   "sideBar": true,
   "skip_h1_title": false,
   "title_cell": "Table of Contents",
   "title_sidebar": "Contents",
   "toc_cell": false,
   "toc_position": {},
   "toc_section_display": true,
   "toc_window_display": false
  }
 },
 "nbformat": 4,
 "nbformat_minor": 5
}
