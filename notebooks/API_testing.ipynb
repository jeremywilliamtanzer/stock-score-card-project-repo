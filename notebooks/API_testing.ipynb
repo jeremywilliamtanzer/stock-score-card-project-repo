{
 "cells": [
  {
   "cell_type": "code",
   "execution_count": 2,
   "id": "5dedeec7",
   "metadata": {},
   "outputs": [],
   "source": [
    "import requests\n",
    "import pandas as pd"
   ]
  },
  {
   "cell_type": "code",
   "execution_count": 3,
   "id": "061db832",
   "metadata": {},
   "outputs": [],
   "source": [
    "# copy API key\n",
    "key = 'wQ5FjyMjpTSO2j5vBxbLuIp72hwYd5E5'"
   ]
  },
  {
   "cell_type": "code",
   "execution_count": null,
   "id": "218e96f7",
   "metadata": {},
   "outputs": [],
   "source": [
    "tickers = "
   ]
  },
  {
   "cell_type": "code",
   "execution_count": 4,
   "id": "8f7c0121",
   "metadata": {},
   "outputs": [
    {
     "name": "stdout",
     "output_type": "stream",
     "text": [
      "Input short stock name: AAPL\n"
     ]
    }
   ],
   "source": [
    "# tickers = (input('Input short stock name: '),)\n",
    "start_date = '2022-01-01'\n",
    "end_date = '2023-01-01'\n",
    "timespan = 'year'"
   ]
  },
  {
   "cell_type": "code",
   "execution_count": 5,
   "id": "3b0fd1de",
   "metadata": {},
   "outputs": [],
   "source": [
    "def get_aggregates(tickers):\n",
    "    \"\"\"Get aggregate bars for a stock\n",
    "    over a given date range in custom time window sizes.\n",
    "    \"\"\"\n",
    "    for ticker in tickers:\n",
    "        print(f'Calling the API for {ticker}:')\n",
    "        url = f'https://api.polygon.io/v2/aggs/ticker/{ticker}/range/1/{timespan}/{start_date}/{end_date}?adjusted=true&sort=asc&limit=120&apiKey={key}'\n",
    "        response = requests.get(url).json()\n",
    "        df = pd.DataFrame(response['results'])\n",
    "        print(df)"
   ]
  },
  {
   "cell_type": "code",
   "execution_count": 6,
   "id": "a8165fab",
   "metadata": {},
   "outputs": [
    {
     "name": "stdout",
     "output_type": "stream",
     "text": [
      "Calling the API for AAPL:\n",
      "              v        vw       o       c       h       l              t  \\\n",
      "0  1.144649e+10  159.7132  177.83  141.66  182.94  129.04  1641013200000   \n",
      "\n",
      "          n  \n",
      "0  95704612  \n"
     ]
    }
   ],
   "source": [
    "get_aggregates(tickers)"
   ]
  },
  {
   "cell_type": "code",
   "execution_count": null,
   "id": "aef91a36",
   "metadata": {},
   "outputs": [],
   "source": []
  },
  {
   "cell_type": "code",
   "execution_count": null,
   "id": "37f82e18",
   "metadata": {},
   "outputs": [],
   "source": []
  }
 ],
 "metadata": {
  "kernelspec": {
   "display_name": "Python 3 (ipykernel)",
   "language": "python",
   "name": "python3"
  },
  "language_info": {
   "codemirror_mode": {
    "name": "ipython",
    "version": 3
   },
   "file_extension": ".py",
   "mimetype": "text/x-python",
   "name": "python",
   "nbconvert_exporter": "python",
   "pygments_lexer": "ipython3",
   "version": "3.10.6"
  },
  "toc": {
   "base_numbering": 1,
   "nav_menu": {},
   "number_sections": true,
   "sideBar": true,
   "skip_h1_title": false,
   "title_cell": "Table of Contents",
   "title_sidebar": "Contents",
   "toc_cell": false,
   "toc_position": {},
   "toc_section_display": true,
   "toc_window_display": false
  }
 },
 "nbformat": 4,
 "nbformat_minor": 5
}
