{
 "cells": [
  {
   "cell_type": "code",
   "execution_count": 1,
   "id": "48bc94ac",
   "metadata": {},
   "outputs": [],
   "source": [
    "import pandas as pd\n",
    "import numpy as np\n",
    "import requests\n",
    "from datetime import date, datetime, timedelta"
   ]
  },
  {
   "cell_type": "code",
   "execution_count": 2,
   "id": "277545c2",
   "metadata": {},
   "outputs": [],
   "source": [
    "def get_stock_data(ticker, multiplier, timespan, from_date, to_date):\n",
    "    # Make the API request\n",
    "    api_url = f\"https://api.polygon.io/v2/aggs/ticker/{ticker}/range/{multiplier}/{timespan}/{from_date}/{to_date}\"\n",
    "    response = requests.get(api_url, params={\"apiKey\": \"wQ5FjyMjpTSO2j5vBxbLuIp72hwYd5E5\"})\n",
    "\n",
    "    # Check for errors\n",
    "    if response.status_code != 200:\n",
    "        raise Exception(f\"Error {response.status_code}: {response.text}\")\n",
    "\n",
    "    # Extract the data from the response\n",
    "    data = response.json()[\"results\"]\n",
    "    stock_data = []\n",
    "    for d in data:\n",
    "        stock_data.append({\n",
    "            \"Date\": pd.to_datetime(d[\"t\"], unit='ms').date(),\n",
    "            \"Open\": d[\"o\"],\n",
    "            \"High\": d[\"h\"],\n",
    "            \"Low\": d[\"l\"],\n",
    "            \"Close\": d[\"c\"],\n",
    "            \"Adj Close\": d[\"c\"],\n",
    "            \"Volume\": d[\"v\"],\n",
    "        })\n",
    "     \n",
    "     # Convert the data to a dataframe\n",
    "    df = pd.DataFrame(stock_data)\n",
    "    df = df.reset_index(drop=True)\n",
    "    \n",
    "    return df"
   ]
  },
  {
   "cell_type": "code",
   "execution_count": 3,
   "id": "578a0ec1",
   "metadata": {},
   "outputs": [
    {
     "data": {
      "text/html": [
       "<div>\n",
       "<style scoped>\n",
       "    .dataframe tbody tr th:only-of-type {\n",
       "        vertical-align: middle;\n",
       "    }\n",
       "\n",
       "    .dataframe tbody tr th {\n",
       "        vertical-align: top;\n",
       "    }\n",
       "\n",
       "    .dataframe thead th {\n",
       "        text-align: right;\n",
       "    }\n",
       "</style>\n",
       "<table border=\"1\" class=\"dataframe\">\n",
       "  <thead>\n",
       "    <tr style=\"text-align: right;\">\n",
       "      <th></th>\n",
       "      <th>Date</th>\n",
       "      <th>Open</th>\n",
       "      <th>High</th>\n",
       "      <th>Low</th>\n",
       "      <th>Close</th>\n",
       "      <th>Adj Close</th>\n",
       "      <th>Volume</th>\n",
       "    </tr>\n",
       "  </thead>\n",
       "  <tbody>\n",
       "    <tr>\n",
       "      <th>0</th>\n",
       "      <td>2021-03-29</td>\n",
       "      <td>121.65</td>\n",
       "      <td>122.5800</td>\n",
       "      <td>120.7299</td>\n",
       "      <td>121.390</td>\n",
       "      <td>121.390</td>\n",
       "      <td>80819203.0</td>\n",
       "    </tr>\n",
       "    <tr>\n",
       "      <th>1</th>\n",
       "      <td>2021-03-30</td>\n",
       "      <td>120.11</td>\n",
       "      <td>120.4031</td>\n",
       "      <td>118.8600</td>\n",
       "      <td>119.900</td>\n",
       "      <td>119.900</td>\n",
       "      <td>84507919.0</td>\n",
       "    </tr>\n",
       "    <tr>\n",
       "      <th>2</th>\n",
       "      <td>2021-03-31</td>\n",
       "      <td>121.65</td>\n",
       "      <td>123.5200</td>\n",
       "      <td>121.1500</td>\n",
       "      <td>122.150</td>\n",
       "      <td>122.150</td>\n",
       "      <td>118323826.0</td>\n",
       "    </tr>\n",
       "    <tr>\n",
       "      <th>3</th>\n",
       "      <td>2021-04-01</td>\n",
       "      <td>123.66</td>\n",
       "      <td>124.1800</td>\n",
       "      <td>122.4900</td>\n",
       "      <td>123.000</td>\n",
       "      <td>123.000</td>\n",
       "      <td>75089134.0</td>\n",
       "    </tr>\n",
       "    <tr>\n",
       "      <th>4</th>\n",
       "      <td>2021-04-05</td>\n",
       "      <td>123.87</td>\n",
       "      <td>126.1601</td>\n",
       "      <td>123.0700</td>\n",
       "      <td>125.900</td>\n",
       "      <td>125.900</td>\n",
       "      <td>88251175.0</td>\n",
       "    </tr>\n",
       "    <tr>\n",
       "      <th>5</th>\n",
       "      <td>2021-04-06</td>\n",
       "      <td>126.50</td>\n",
       "      <td>127.1300</td>\n",
       "      <td>125.6500</td>\n",
       "      <td>126.210</td>\n",
       "      <td>126.210</td>\n",
       "      <td>80171253.0</td>\n",
       "    </tr>\n",
       "    <tr>\n",
       "      <th>6</th>\n",
       "      <td>2021-04-07</td>\n",
       "      <td>125.83</td>\n",
       "      <td>127.9200</td>\n",
       "      <td>125.1400</td>\n",
       "      <td>127.900</td>\n",
       "      <td>127.900</td>\n",
       "      <td>83256716.0</td>\n",
       "    </tr>\n",
       "    <tr>\n",
       "      <th>7</th>\n",
       "      <td>2021-04-08</td>\n",
       "      <td>128.95</td>\n",
       "      <td>130.3900</td>\n",
       "      <td>128.5200</td>\n",
       "      <td>130.360</td>\n",
       "      <td>130.360</td>\n",
       "      <td>88844591.0</td>\n",
       "    </tr>\n",
       "    <tr>\n",
       "      <th>8</th>\n",
       "      <td>2021-04-09</td>\n",
       "      <td>129.80</td>\n",
       "      <td>133.0400</td>\n",
       "      <td>129.4700</td>\n",
       "      <td>132.995</td>\n",
       "      <td>132.995</td>\n",
       "      <td>106615653.0</td>\n",
       "    </tr>\n",
       "    <tr>\n",
       "      <th>9</th>\n",
       "      <td>2021-04-12</td>\n",
       "      <td>132.52</td>\n",
       "      <td>132.8500</td>\n",
       "      <td>130.6300</td>\n",
       "      <td>131.240</td>\n",
       "      <td>131.240</td>\n",
       "      <td>91388983.0</td>\n",
       "    </tr>\n",
       "  </tbody>\n",
       "</table>\n",
       "</div>"
      ],
      "text/plain": [
       "         Date    Open      High       Low    Close  Adj Close       Volume\n",
       "0  2021-03-29  121.65  122.5800  120.7299  121.390    121.390   80819203.0\n",
       "1  2021-03-30  120.11  120.4031  118.8600  119.900    119.900   84507919.0\n",
       "2  2021-03-31  121.65  123.5200  121.1500  122.150    122.150  118323826.0\n",
       "3  2021-04-01  123.66  124.1800  122.4900  123.000    123.000   75089134.0\n",
       "4  2021-04-05  123.87  126.1601  123.0700  125.900    125.900   88251175.0\n",
       "5  2021-04-06  126.50  127.1300  125.6500  126.210    126.210   80171253.0\n",
       "6  2021-04-07  125.83  127.9200  125.1400  127.900    127.900   83256716.0\n",
       "7  2021-04-08  128.95  130.3900  128.5200  130.360    130.360   88844591.0\n",
       "8  2021-04-09  129.80  133.0400  129.4700  132.995    132.995  106615653.0\n",
       "9  2021-04-12  132.52  132.8500  130.6300  131.240    131.240   91388983.0"
      ]
     },
     "execution_count": 3,
     "metadata": {},
     "output_type": "execute_result"
    }
   ],
   "source": [
    "end_date = (datetime.today() - timedelta(days=1)).strftime('%Y-%m-%d')\n",
    "start_date = (datetime.strptime(end_date, '%Y-%m-%d') - timedelta(days=365*2-1)).strftime('%Y-%m-%d')\n",
    "\n",
    "data = get_stock_data('AAPL', 1, 'day', start_date, end_date)\n",
    "\n",
    "data.head(10)"
   ]
  },
  {
   "cell_type": "code",
   "execution_count": 4,
   "id": "793c4396",
   "metadata": {},
   "outputs": [
    {
     "name": "stdout",
     "output_type": "stream",
     "text": [
      "<class 'pandas.core.frame.DataFrame'>\n",
      "RangeIndex: 502 entries, 0 to 501\n",
      "Data columns (total 7 columns):\n",
      " #   Column     Non-Null Count  Dtype  \n",
      "---  ------     --------------  -----  \n",
      " 0   Date       502 non-null    object \n",
      " 1   Open       502 non-null    float64\n",
      " 2   High       502 non-null    float64\n",
      " 3   Low        502 non-null    float64\n",
      " 4   Close      502 non-null    float64\n",
      " 5   Adj Close  502 non-null    float64\n",
      " 6   Volume     502 non-null    float64\n",
      "dtypes: float64(6), object(1)\n",
      "memory usage: 27.6+ KB\n"
     ]
    }
   ],
   "source": [
    "data.info()"
   ]
  },
  {
   "cell_type": "code",
   "execution_count": 87,
   "id": "e296fe84",
   "metadata": {},
   "outputs": [],
   "source": [
    "split = int(round(data.shape[0]*0.7, 0))\n",
    "train_size = split\n",
    "test_size = data.shape[0] - split\n",
    "\n",
    "data_train = data[:split]\n",
    "data_test = data[split:]"
   ]
  },
  {
   "cell_type": "code",
   "execution_count": 88,
   "id": "90033fac",
   "metadata": {},
   "outputs": [],
   "source": [
    "data_train = data_train.reset_index(drop=True)\n",
    "data_test = data_test.reset_index(drop=True)"
   ]
  },
  {
   "cell_type": "code",
   "execution_count": 89,
   "id": "c5eb4ced",
   "metadata": {},
   "outputs": [
    {
     "data": {
      "text/plain": [
       "(      High     Low   Close      Volume\n",
       " 93  147.71  145.30  145.60  68286400.0\n",
       " 94  146.72  145.53  145.86  48493463.0\n",
       " 95  149.05  145.84  148.89  73771613.0,\n",
       " 149.1)"
      ]
     },
     "execution_count": 89,
     "metadata": {},
     "output_type": "execute_result"
    }
   ],
   "source": [
    "def subsample_sequence(sequence, length, horizon):\n",
    "    \n",
    "    # Randomly select a starting point for subsample\n",
    "    random_start = np.random.randint(0, len(sequence) - length - horizon)\n",
    "\n",
    "    \n",
    "    # Sample\n",
    "    X = sequence[random_start:random_start +length].drop(columns=['Open','Date', 'Adj Close']) # Remove target closing price & date\n",
    "    y = sequence.loc[random_start + length + horizon - 1, 'Close']\n",
    "    \n",
    "    return X, y\n",
    "\n",
    "subsample_sequence(data, 3, 1)"
   ]
  },
  {
   "cell_type": "code",
   "execution_count": 90,
   "id": "685f90bf",
   "metadata": {},
   "outputs": [],
   "source": [
    "def get_X_y(sequence, length, horizon, number_of_samples):\n",
    "    \n",
    "    X, y = [], []\n",
    "    \n",
    "    # Do as many samples as specified\n",
    "    for sample in range(1,number_of_samples + 1):\n",
    "        \n",
    "        # Record sample X & y\n",
    "        xi, yi = subsample_sequence(sequence, length, horizon)\n",
    "        X.append(np.array(xi.values.T.tolist()).T) # Getting the right shape (sequences, observations,features)\n",
    "        y.append(yi)\n",
    "\n",
    "    return np.array(X), np.array(y)"
   ]
  },
  {
   "cell_type": "code",
   "execution_count": 92,
   "id": "544448dd",
   "metadata": {},
   "outputs": [],
   "source": [
    "X_train, y_train = get_X_y(sequence=data_train,\n",
    "               length=100,\n",
    "               horizon=1,\n",
    "               number_of_samples=10000)"
   ]
  },
  {
   "cell_type": "code",
   "execution_count": 93,
   "id": "b75def6a",
   "metadata": {},
   "outputs": [
    {
     "data": {
      "text/plain": [
       "(10000, 100, 4)"
      ]
     },
     "execution_count": 93,
     "metadata": {},
     "output_type": "execute_result"
    }
   ],
   "source": [
    "# 10000 subsamples, each of lenght 100 , each containg 4 features\n",
    "X_train.shape"
   ]
  },
  {
   "cell_type": "code",
   "execution_count": 94,
   "id": "5dbbccc6",
   "metadata": {},
   "outputs": [],
   "source": [
    "y_train = y_train.reshape(10000,1)"
   ]
  },
  {
   "cell_type": "code",
   "execution_count": 95,
   "id": "7a9bf86a",
   "metadata": {},
   "outputs": [
    {
     "name": "stdout",
     "output_type": "stream",
     "text": [
      "RangeIndex(start=0, stop=351, step=1)\n"
     ]
    }
   ],
   "source": [
    "print(data_train.index)"
   ]
  },
  {
   "cell_type": "code",
   "execution_count": 96,
   "id": "5a6b874f",
   "metadata": {},
   "outputs": [
    {
     "data": {
      "text/plain": [
       "151"
      ]
     },
     "execution_count": 96,
     "metadata": {},
     "output_type": "execute_result"
    }
   ],
   "source": [
    "len(data_test)"
   ]
  },
  {
   "cell_type": "code",
   "execution_count": 97,
   "id": "b84e4efc",
   "metadata": {},
   "outputs": [],
   "source": [
    "X_test, y_test = get_X_y(sequence=data_test,\n",
    "                          length=100,\n",
    "                          horizon=1,\n",
    "                          number_of_samples=1000)"
   ]
  },
  {
   "cell_type": "code",
   "execution_count": 98,
   "id": "77624f5e",
   "metadata": {},
   "outputs": [
    {
     "name": "stdout",
     "output_type": "stream",
     "text": [
      "Model: \"sequential_2\"\n",
      "_________________________________________________________________\n",
      " Layer (type)                Output Shape              Param #   \n",
      "=================================================================\n",
      " lstm_6 (LSTM)               (None, 100, 15)           1200      \n",
      "                                                                 \n",
      " lstm_7 (LSTM)               (None, 100, 20)           2880      \n",
      "                                                                 \n",
      " lstm_8 (LSTM)               (None, 100, 15)           2160      \n",
      "                                                                 \n",
      " dense_4 (Dense)             (None, 100, 10)           160       \n",
      "                                                                 \n",
      " dense_5 (Dense)             (None, 100, 1)            11        \n",
      "                                                                 \n",
      "=================================================================\n",
      "Total params: 6,411\n",
      "Trainable params: 6,411\n",
      "Non-trainable params: 0\n",
      "_________________________________________________________________\n"
     ]
    }
   ],
   "source": [
    "from tensorflow.keras import models\n",
    "from tensorflow.keras import layers\n",
    "\n",
    "def init_model():\n",
    "\n",
    "    model = models.Sequential()\n",
    "\n",
    "    model.add(layers.LSTM(15, return_sequences=True, activation='tanh', input_shape=(100,4)))\n",
    "    model.add(layers.LSTM(20, return_sequences=True, activation='tanh'))\n",
    "    model.add(layers.LSTM(15, return_sequences=True, activation='tanh'))\n",
    "    model.add(layers.Dense(10, activation='relu'))\n",
    "    model.add(layers.Dense(1, activation='linear'))\n",
    "\n",
    "    model.compile(loss='mse',\n",
    "                  optimizer='rmsprop',\n",
    "                  metrics=['mae'])\n",
    "\n",
    "\n",
    "    return model\n",
    "\n",
    "init_model().summary()"
   ]
  },
  {
   "cell_type": "code",
   "execution_count": 99,
   "id": "a57eaff1",
   "metadata": {},
   "outputs": [
    {
     "name": "stdout",
     "output_type": "stream",
     "text": [
      "Epoch 1/8\n",
      "500/500 [==============================] - 13s 21ms/step - loss: 20291.1992 - mae: 141.5958 - val_loss: 15412.6494 - val_mae: 123.5285\n",
      "Epoch 2/8\n",
      "500/500 [==============================] - 10s 21ms/step - loss: 9533.1680 - mae: 95.0905 - val_loss: 3972.1089 - val_mae: 61.7633\n",
      "Epoch 3/8\n",
      "500/500 [==============================] - 10s 21ms/step - loss: 1121.8783 - mae: 26.9903 - val_loss: 165.8607 - val_mae: 10.9856\n",
      "Epoch 4/8\n",
      "500/500 [==============================] - 10s 21ms/step - loss: 171.4978 - mae: 11.2645 - val_loss: 165.6897 - val_mae: 10.9844\n",
      "Epoch 5/8\n",
      "500/500 [==============================] - 10s 21ms/step - loss: 171.3058 - mae: 11.2536 - val_loss: 165.7058 - val_mae: 11.0234\n",
      "Epoch 6/8\n",
      "500/500 [==============================] - 10s 21ms/step - loss: 171.4646 - mae: 11.2683 - val_loss: 165.4837 - val_mae: 10.9849\n",
      "Epoch 7/8\n",
      "500/500 [==============================] - 10s 21ms/step - loss: 171.2298 - mae: 11.2599 - val_loss: 166.1078 - val_mae: 11.0362\n",
      "Epoch 8/8\n",
      "500/500 [==============================] - 10s 21ms/step - loss: 171.3359 - mae: 11.2571 - val_loss: 165.3637 - val_mae: 10.9858\n"
     ]
    },
    {
     "data": {
      "text/plain": [
       "<keras.callbacks.History at 0x293fc6cb0>"
      ]
     },
     "execution_count": 99,
     "metadata": {},
     "output_type": "execute_result"
    }
   ],
   "source": [
    "from tensorflow.keras.callbacks import EarlyStopping\n",
    "model = init_model()\n",
    "\n",
    "es = EarlyStopping(patience=20)\n",
    "\n",
    "model.fit(X_train, y_train, \n",
    "          epochs=8, \n",
    "          batch_size=16, \n",
    "          verbose=1, \n",
    "          callbacks = [es],\n",
    "          validation_split=0.2)"
   ]
  },
  {
   "cell_type": "code",
   "execution_count": 109,
   "id": "4e681623",
   "metadata": {},
   "outputs": [],
   "source": [
    "#def predict_next_day_price(model, X_test):\n",
    "    # Use the trained model to make predictions on the test set\n",
    " #   y_pred = model.predict(X_test)\n",
    "    # Calculate the mean of all the predictions\n",
    " #   next_day_prediction = np.mean(y_pred)\n",
    "  #  return next_day_prediction"
   ]
  },
  {
   "cell_type": "code",
   "execution_count": 116,
   "id": "6ea67dc2",
   "metadata": {},
   "outputs": [],
   "source": [
    "from scipy import stats\n",
    "\n",
    "def predict_next_day_price(model, X_test, confidence=0.95):\n",
    "    # Use the trained model to make predictions on the test set\n",
    "    y_pred = model.predict(X_test)\n",
    "    # Calculate the mean of all the predictions\n",
    "    mean_prediction = np.mean(y_pred)\n",
    "    # Calculate the standard deviation of the predictions\n",
    "    std_deviation = np.std(y_pred)\n",
    "    # Calculate the confidence interval\n",
    "    interval = stats.norm.interval(confidence, loc=mean_prediction, scale=std_deviation)\n",
    "    lower_bound, upper_bound = interval\n",
    "    # Return the mean prediction and confidence interval as a dictionary\n",
    "    return {'mean_prediction': mean_prediction, 'lower_bound': lower_bound, 'upper_bound': upper_bound}"
   ]
  },
  {
   "cell_type": "code",
   "execution_count": 117,
   "id": "a30a9682",
   "metadata": {},
   "outputs": [
    {
     "name": "stdout",
     "output_type": "stream",
     "text": [
      "32/32 [==============================] - 0s 6ms/step\n",
      "{'mean_prediction': 157.19307, 'lower_bound': 150.2919929897423, 'upper_bound': 164.0941459262733}\n"
     ]
    }
   ],
   "source": [
    "test_predictions = predict_next_day_price(model, X_test)\n",
    "print(test_predictions)"
   ]
  }
 ],
 "metadata": {
  "kernelspec": {
   "display_name": "Python 3 (ipykernel)",
   "language": "python",
   "name": "python3"
  },
  "language_info": {
   "codemirror_mode": {
    "name": "ipython",
    "version": 3
   },
   "file_extension": ".py",
   "mimetype": "text/x-python",
   "name": "python",
   "nbconvert_exporter": "python",
   "pygments_lexer": "ipython3",
   "version": "3.10.6"
  },
  "toc": {
   "base_numbering": 1,
   "nav_menu": {},
   "number_sections": true,
   "sideBar": true,
   "skip_h1_title": false,
   "title_cell": "Table of Contents",
   "title_sidebar": "Contents",
   "toc_cell": false,
   "toc_position": {},
   "toc_section_display": true,
   "toc_window_display": false
  }
 },
 "nbformat": 4,
 "nbformat_minor": 5
}
