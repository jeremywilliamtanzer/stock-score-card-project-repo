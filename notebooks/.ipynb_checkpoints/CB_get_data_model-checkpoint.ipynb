{
 "cells": [
  {
   "cell_type": "code",
   "execution_count": 1,
   "metadata": {},
   "outputs": [],
   "source": [
    "import pandas as pd\n",
    "import numpy as np\n",
    "import requests\n",
    "# from api_key import key\n",
    "from datetime import date\n",
    "from dateutil.relativedelta import relativedelta"
   ]
  },
  {
   "cell_type": "code",
   "execution_count": null,
   "metadata": {},
   "outputs": [],
   "source": [
    "#date \n",
    "#open \n",
    "#close \n",
    "#volume\n",
    "#input shape = 3\n",
    "#6 months - 12 months\n",
    "\n",
    "#AAPL, SBUX, GOOG"
   ]
  },
  {
   "cell_type": "code",
   "execution_count": 96,
   "metadata": {},
   "outputs": [],
   "source": [
    "def get_stock_data(ticker, multiplier, timespan, from_date, to_date):\n",
    "    # Make the API request\n",
    "    api_url = f\"https://api.polygon.io/v2/aggs/ticker/{ticker}/range/{multiplier}/{timespan}/{from_date}/{to_date}\"\n",
    "    response = requests.get(api_url, params={\"apiKey\": \"wQ5FjyMjpTSO2j5vBxbLuIp72hwYd5E5\"})\n",
    "\n",
    "    # Check for errors\n",
    "    if response.status_code != 200:\n",
    "        raise Exception(f\"Error {response.status_code}: {response.text}\")\n",
    "\n",
    "    # Extract the data from the response\n",
    "    data = response.json()[\"results\"]\n",
    "    stock_data = []\n",
    "    for d in data:\n",
    "        stock_data.append({\n",
    "            \"Date\": pd.to_datetime(d[\"t\"], unit='ms').date(),\n",
    "            \"Open\": d[\"o\"],\n",
    "            \"High\": d[\"h\"],\n",
    "            \"Low\": d[\"l\"],\n",
    "            \"Close\": d[\"c\"],\n",
    "            \"Adj Close\": d[\"c\"],\n",
    "            \"Volume\": d[\"v\"],\n",
    "        })\n",
    "     \n",
    "     # Convert the data to a dataframe\n",
    "    df = pd.DataFrame(stock_data)\n",
    "    df = df.reset_index(drop=True)\n",
    "    \n",
    "    return df"
   ]
  },
  {
   "cell_type": "code",
   "execution_count": 111,
   "metadata": {},
   "outputs": [
    {
     "data": {
      "text/html": [
       "<div>\n",
       "<style scoped>\n",
       "    .dataframe tbody tr th:only-of-type {\n",
       "        vertical-align: middle;\n",
       "    }\n",
       "\n",
       "    .dataframe tbody tr th {\n",
       "        vertical-align: top;\n",
       "    }\n",
       "\n",
       "    .dataframe thead th {\n",
       "        text-align: right;\n",
       "    }\n",
       "</style>\n",
       "<table border=\"1\" class=\"dataframe\">\n",
       "  <thead>\n",
       "    <tr style=\"text-align: right;\">\n",
       "      <th></th>\n",
       "      <th>Date</th>\n",
       "      <th>Open</th>\n",
       "      <th>High</th>\n",
       "      <th>Low</th>\n",
       "      <th>Close</th>\n",
       "      <th>Adj Close</th>\n",
       "      <th>Volume</th>\n",
       "    </tr>\n",
       "  </thead>\n",
       "  <tbody>\n",
       "    <tr>\n",
       "      <th>0</th>\n",
       "      <td>2022-02-28</td>\n",
       "      <td>163.060</td>\n",
       "      <td>165.42</td>\n",
       "      <td>162.43</td>\n",
       "      <td>165.12</td>\n",
       "      <td>165.12</td>\n",
       "      <td>95056629.0</td>\n",
       "    </tr>\n",
       "    <tr>\n",
       "      <th>1</th>\n",
       "      <td>2022-03-01</td>\n",
       "      <td>164.695</td>\n",
       "      <td>166.60</td>\n",
       "      <td>161.97</td>\n",
       "      <td>163.20</td>\n",
       "      <td>163.20</td>\n",
       "      <td>83468865.0</td>\n",
       "    </tr>\n",
       "    <tr>\n",
       "      <th>2</th>\n",
       "      <td>2022-03-02</td>\n",
       "      <td>164.390</td>\n",
       "      <td>167.36</td>\n",
       "      <td>162.95</td>\n",
       "      <td>166.56</td>\n",
       "      <td>166.56</td>\n",
       "      <td>79724750.0</td>\n",
       "    </tr>\n",
       "    <tr>\n",
       "      <th>3</th>\n",
       "      <td>2022-03-03</td>\n",
       "      <td>168.470</td>\n",
       "      <td>168.91</td>\n",
       "      <td>165.55</td>\n",
       "      <td>166.23</td>\n",
       "      <td>166.23</td>\n",
       "      <td>76678441.0</td>\n",
       "    </tr>\n",
       "    <tr>\n",
       "      <th>4</th>\n",
       "      <td>2022-03-04</td>\n",
       "      <td>164.490</td>\n",
       "      <td>165.55</td>\n",
       "      <td>162.10</td>\n",
       "      <td>163.17</td>\n",
       "      <td>163.17</td>\n",
       "      <td>83819592.0</td>\n",
       "    </tr>\n",
       "    <tr>\n",
       "      <th>5</th>\n",
       "      <td>2022-03-07</td>\n",
       "      <td>163.360</td>\n",
       "      <td>165.02</td>\n",
       "      <td>159.04</td>\n",
       "      <td>159.30</td>\n",
       "      <td>159.30</td>\n",
       "      <td>96418845.0</td>\n",
       "    </tr>\n",
       "    <tr>\n",
       "      <th>6</th>\n",
       "      <td>2022-03-08</td>\n",
       "      <td>158.820</td>\n",
       "      <td>162.88</td>\n",
       "      <td>155.80</td>\n",
       "      <td>157.44</td>\n",
       "      <td>157.44</td>\n",
       "      <td>131139480.0</td>\n",
       "    </tr>\n",
       "    <tr>\n",
       "      <th>7</th>\n",
       "      <td>2022-03-09</td>\n",
       "      <td>161.475</td>\n",
       "      <td>163.41</td>\n",
       "      <td>159.41</td>\n",
       "      <td>162.95</td>\n",
       "      <td>162.95</td>\n",
       "      <td>91445405.0</td>\n",
       "    </tr>\n",
       "    <tr>\n",
       "      <th>8</th>\n",
       "      <td>2022-03-10</td>\n",
       "      <td>160.200</td>\n",
       "      <td>160.39</td>\n",
       "      <td>155.98</td>\n",
       "      <td>158.52</td>\n",
       "      <td>158.52</td>\n",
       "      <td>105342033.0</td>\n",
       "    </tr>\n",
       "    <tr>\n",
       "      <th>9</th>\n",
       "      <td>2022-03-11</td>\n",
       "      <td>158.930</td>\n",
       "      <td>159.28</td>\n",
       "      <td>154.50</td>\n",
       "      <td>154.73</td>\n",
       "      <td>154.73</td>\n",
       "      <td>96917302.0</td>\n",
       "    </tr>\n",
       "  </tbody>\n",
       "</table>\n",
       "</div>"
      ],
      "text/plain": [
       "         Date     Open    High     Low   Close  Adj Close       Volume\n",
       "0  2022-02-28  163.060  165.42  162.43  165.12     165.12   95056629.0\n",
       "1  2022-03-01  164.695  166.60  161.97  163.20     163.20   83468865.0\n",
       "2  2022-03-02  164.390  167.36  162.95  166.56     166.56   79724750.0\n",
       "3  2022-03-03  168.470  168.91  165.55  166.23     166.23   76678441.0\n",
       "4  2022-03-04  164.490  165.55  162.10  163.17     163.17   83819592.0\n",
       "5  2022-03-07  163.360  165.02  159.04  159.30     159.30   96418845.0\n",
       "6  2022-03-08  158.820  162.88  155.80  157.44     157.44  131139480.0\n",
       "7  2022-03-09  161.475  163.41  159.41  162.95     162.95   91445405.0\n",
       "8  2022-03-10  160.200  160.39  155.98  158.52     158.52  105342033.0\n",
       "9  2022-03-11  158.930  159.28  154.50  154.73     154.73   96917302.0"
      ]
     },
     "execution_count": 111,
     "metadata": {},
     "output_type": "execute_result"
    }
   ],
   "source": [
    "data = get_stock_data('AAPL', 1, 'day', '2022-02-28', '2023-02-28')\n",
    "\n",
    "data.head(10)"
   ]
  },
  {
   "cell_type": "code",
   "execution_count": 112,
   "metadata": {},
   "outputs": [
    {
     "name": "stdout",
     "output_type": "stream",
     "text": [
      "<class 'pandas.core.frame.DataFrame'>\n",
      "RangeIndex: 252 entries, 0 to 251\n",
      "Data columns (total 7 columns):\n",
      " #   Column     Non-Null Count  Dtype  \n",
      "---  ------     --------------  -----  \n",
      " 0   Date       252 non-null    object \n",
      " 1   Open       252 non-null    float64\n",
      " 2   High       252 non-null    float64\n",
      " 3   Low        252 non-null    float64\n",
      " 4   Close      252 non-null    float64\n",
      " 5   Adj Close  252 non-null    float64\n",
      " 6   Volume     252 non-null    float64\n",
      "dtypes: float64(6), object(1)\n",
      "memory usage: 13.9+ KB\n"
     ]
    }
   ],
   "source": [
    "data.info()"
   ]
  },
  {
   "cell_type": "code",
   "execution_count": 98,
   "metadata": {},
   "outputs": [],
   "source": [
    "split = int(round(df.size*0.7,0))\n",
    "train_size = split\n",
    "test_size = df.size - split\n",
    "\n",
    "data_train = df[:split]\n",
    "data_test = df[split:]"
   ]
  },
  {
   "cell_type": "code",
   "execution_count": 72,
   "metadata": {},
   "outputs": [],
   "source": [
    "## Preprocessing"
   ]
  },
  {
   "cell_type": "code",
   "execution_count": 119,
   "metadata": {},
   "outputs": [
    {
     "data": {
      "text/plain": [
       "(       Open     High     Low  Adj Close       Volume\n",
       " 62  148.070  149.046  144.13     144.80  109161970.0\n",
       " 63  148.200  157.500  147.82     155.74  164762371.0\n",
       " 64  153.155  154.240  151.92     153.34   97932271.0,\n",
       " 150.65)"
      ]
     },
     "execution_count": 119,
     "metadata": {},
     "output_type": "execute_result"
    }
   ],
   "source": [
    "def subsample_sequence(sequence, length, horizon):\n",
    "\n",
    "    # Bounds of sampling\n",
    "    last_possible = len(sequence) - length - horizon\n",
    "    random_start = np.random.randint(0, last_possible)\n",
    "\n",
    "    # Sample\n",
    "    X = sequence[random_start:random_start +length].drop(columns=['Close','Date', 'index']) # Remove target closing price & date\n",
    "    y = sequence.loc[random_start+length+horizon-1]['Close'] # Target is closing price\n",
    "\n",
    "    return X, y\n",
    "\n",
    "\n",
    "subsample_sequence(df, 3, 1)"
   ]
  },
  {
   "cell_type": "code",
   "execution_count": 120,
   "metadata": {},
   "outputs": [],
   "source": [
    "def get_X_y(sequence, length, horizon, number_of_samples):\n",
    "    \n",
    "    X, y = [], []\n",
    "    \n",
    "    # Do as many samples as specified\n",
    "    for sample in range(1,number_of_samples + 1):\n",
    "        \n",
    "        # Record sample X & y\n",
    "        xi, yi = subsample_sequence(sequence, length, horizon)\n",
    "        X.append(np.array(xi.values.T.tolist()).T) # Getting the right shape (sequences, observations,features)\n",
    "        y.append(yi)\n",
    "\n",
    "    return np.array(X), np.array(y)"
   ]
  },
  {
   "cell_type": "code",
   "execution_count": 121,
   "metadata": {},
   "outputs": [],
   "source": [
    "X_train, y_train = get_X_y(sequence=data_train,\n",
    "               length=100,\n",
    "               horizon=1,\n",
    "               number_of_samples=10000)"
   ]
  },
  {
   "cell_type": "code",
   "execution_count": 123,
   "metadata": {},
   "outputs": [
    {
     "data": {
      "text/plain": [
       "(10000, 100, 5)"
      ]
     },
     "execution_count": 123,
     "metadata": {},
     "output_type": "execute_result"
    }
   ],
   "source": [
    "# 10000 subsamples, each of lenght 100 , each containg 5 features\n",
    "X_train.shape"
   ]
  },
  {
   "cell_type": "code",
   "execution_count": 124,
   "metadata": {},
   "outputs": [],
   "source": [
    "y_train = y_train.reshape(10000,1)"
   ]
  },
  {
   "cell_type": "code",
   "execution_count": 2,
   "metadata": {},
   "outputs": [
    {
     "name": "stdout",
     "output_type": "stream",
     "text": [
      "Model: \"sequential\"\n",
      "_________________________________________________________________\n",
      " Layer (type)                Output Shape              Param #   \n",
      "=================================================================\n",
      " lstm (LSTM)                 (None, 500, 10)           640       \n",
      "                                                                 \n",
      " lstm_1 (LSTM)               (None, 500, 20)           2480      \n",
      "                                                                 \n",
      " lstm_2 (LSTM)               (None, 500, 10)           1240      \n",
      "                                                                 \n",
      " dense (Dense)               (None, 500, 5)            55        \n",
      "                                                                 \n",
      " dense_1 (Dense)             (None, 500, 1)            6         \n",
      "                                                                 \n",
      "=================================================================\n",
      "Total params: 4,421\n",
      "Trainable params: 4,421\n",
      "Non-trainable params: 0\n",
      "_________________________________________________________________\n"
     ]
    }
   ],
   "source": [
    "from tensorflow.keras import models\n",
    "from tensorflow.keras import layers\n",
    "\n",
    "def init_model():\n",
    "\n",
    "    model = models.Sequential()\n",
    "\n",
    "    model.add(layers.LSTM(10, return_sequences=True, activation='tanh', input_shape=(500,5)))\n",
    "    model.add(layers.LSTM(20, return_sequences=True, activation='tanh'))\n",
    "    model.add(layers.LSTM(10, return_sequences=True, activation='tanh'))\n",
    "    model.add(layers.Dense(5, activation='relu'))\n",
    "    model.add(layers.Dense(1, activation='linear'))\n",
    "\n",
    "    model.compile(loss='mse',\n",
    "                  optimizer='rmsprop',\n",
    "                  metrics=['mae'])\n",
    "\n",
    "\n",
    "    return model\n",
    "\n",
    "init_model().summary()"
   ]
  }
 ],
 "metadata": {
  "kernelspec": {
   "display_name": "Python 3 (ipykernel)",
   "language": "python",
   "name": "python3"
  },
  "language_info": {
   "codemirror_mode": {
    "name": "ipython",
    "version": 3
   },
   "file_extension": ".py",
   "mimetype": "text/x-python",
   "name": "python",
   "nbconvert_exporter": "python",
   "pygments_lexer": "ipython3",
   "version": "3.10.6"
  },
  "toc": {
   "base_numbering": 1,
   "nav_menu": {},
   "number_sections": true,
   "sideBar": true,
   "skip_h1_title": false,
   "title_cell": "Table of Contents",
   "title_sidebar": "Contents",
   "toc_cell": false,
   "toc_position": {},
   "toc_section_display": true,
   "toc_window_display": false
  }
 },
 "nbformat": 4,
 "nbformat_minor": 2
}
