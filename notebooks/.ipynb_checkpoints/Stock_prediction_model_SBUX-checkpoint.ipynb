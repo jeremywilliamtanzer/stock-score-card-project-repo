{
 "cells": [
  {
   "cell_type": "code",
   "execution_count": 4,
   "id": "48bc94ac",
   "metadata": {},
   "outputs": [],
   "source": [
    "import pandas as pd\n",
    "import numpy as np\n",
    "import requests\n",
    "# from api_key import key\n",
    "from datetime import date\n",
    "from dateutil.relativedelta import relativedelta"
   ]
  },
  {
   "cell_type": "code",
   "execution_count": 5,
   "id": "277545c2",
   "metadata": {},
   "outputs": [],
   "source": [
    "def get_stock_data(ticker, multiplier, timespan, from_date, to_date):\n",
    "    # Make the API request\n",
    "    api_url = f\"https://api.polygon.io/v2/aggs/ticker/{ticker}/range/{multiplier}/{timespan}/{from_date}/{to_date}\"\n",
    "    response = requests.get(api_url, params={\"apiKey\": \"wQ5FjyMjpTSO2j5vBxbLuIp72hwYd5E5\"})\n",
    "\n",
    "    # Check for errors\n",
    "    if response.status_code != 200:\n",
    "        raise Exception(f\"Error {response.status_code}: {response.text}\")\n",
    "\n",
    "    # Extract the data from the response\n",
    "    data = response.json()[\"results\"]\n",
    "    stock_data = []\n",
    "    for d in data:\n",
    "        stock_data.append({\n",
    "            \"Date\": pd.to_datetime(d[\"t\"], unit='ms').date(),\n",
    "            \"Open\": d[\"o\"],\n",
    "            \"High\": d[\"h\"],\n",
    "            \"Low\": d[\"l\"],\n",
    "            \"Close\": d[\"c\"],\n",
    "            \"Adj Close\": d[\"c\"],\n",
    "            \"Volume\": d[\"v\"],\n",
    "        })\n",
    "     \n",
    "     # Convert the data to a dataframe\n",
    "    df = pd.DataFrame(stock_data)\n",
    "    df = df.reset_index(drop=True)\n",
    "    \n",
    "    return df"
   ]
  },
  {
   "cell_type": "code",
   "execution_count": 6,
   "id": "578a0ec1",
   "metadata": {},
   "outputs": [
    {
     "data": {
      "text/html": [
       "<div>\n",
       "<style scoped>\n",
       "    .dataframe tbody tr th:only-of-type {\n",
       "        vertical-align: middle;\n",
       "    }\n",
       "\n",
       "    .dataframe tbody tr th {\n",
       "        vertical-align: top;\n",
       "    }\n",
       "\n",
       "    .dataframe thead th {\n",
       "        text-align: right;\n",
       "    }\n",
       "</style>\n",
       "<table border=\"1\" class=\"dataframe\">\n",
       "  <thead>\n",
       "    <tr style=\"text-align: right;\">\n",
       "      <th></th>\n",
       "      <th>Date</th>\n",
       "      <th>Open</th>\n",
       "      <th>High</th>\n",
       "      <th>Low</th>\n",
       "      <th>Close</th>\n",
       "      <th>Adj Close</th>\n",
       "      <th>Volume</th>\n",
       "    </tr>\n",
       "  </thead>\n",
       "  <tbody>\n",
       "    <tr>\n",
       "      <th>0</th>\n",
       "      <td>2021-03-29</td>\n",
       "      <td>109.01</td>\n",
       "      <td>110.2500</td>\n",
       "      <td>106.5900</td>\n",
       "      <td>109.13</td>\n",
       "      <td>109.13</td>\n",
       "      <td>5167195.0</td>\n",
       "    </tr>\n",
       "    <tr>\n",
       "      <th>1</th>\n",
       "      <td>2021-03-30</td>\n",
       "      <td>108.42</td>\n",
       "      <td>110.4500</td>\n",
       "      <td>108.2800</td>\n",
       "      <td>110.27</td>\n",
       "      <td>110.27</td>\n",
       "      <td>4552862.0</td>\n",
       "    </tr>\n",
       "    <tr>\n",
       "      <th>2</th>\n",
       "      <td>2021-03-31</td>\n",
       "      <td>110.33</td>\n",
       "      <td>111.6199</td>\n",
       "      <td>109.1900</td>\n",
       "      <td>109.27</td>\n",
       "      <td>109.27</td>\n",
       "      <td>6478401.0</td>\n",
       "    </tr>\n",
       "    <tr>\n",
       "      <th>3</th>\n",
       "      <td>2021-04-01</td>\n",
       "      <td>110.06</td>\n",
       "      <td>110.0600</td>\n",
       "      <td>108.2000</td>\n",
       "      <td>109.38</td>\n",
       "      <td>109.38</td>\n",
       "      <td>5792950.0</td>\n",
       "    </tr>\n",
       "    <tr>\n",
       "      <th>4</th>\n",
       "      <td>2021-04-05</td>\n",
       "      <td>109.91</td>\n",
       "      <td>111.3500</td>\n",
       "      <td>109.8700</td>\n",
       "      <td>111.02</td>\n",
       "      <td>111.02</td>\n",
       "      <td>6913105.0</td>\n",
       "    </tr>\n",
       "    <tr>\n",
       "      <th>5</th>\n",
       "      <td>2021-04-06</td>\n",
       "      <td>111.38</td>\n",
       "      <td>113.8200</td>\n",
       "      <td>111.0950</td>\n",
       "      <td>113.15</td>\n",
       "      <td>113.15</td>\n",
       "      <td>6745242.0</td>\n",
       "    </tr>\n",
       "    <tr>\n",
       "      <th>6</th>\n",
       "      <td>2021-04-07</td>\n",
       "      <td>112.91</td>\n",
       "      <td>113.7600</td>\n",
       "      <td>112.6500</td>\n",
       "      <td>113.19</td>\n",
       "      <td>113.19</td>\n",
       "      <td>5629622.0</td>\n",
       "    </tr>\n",
       "    <tr>\n",
       "      <th>7</th>\n",
       "      <td>2021-04-08</td>\n",
       "      <td>113.65</td>\n",
       "      <td>113.9600</td>\n",
       "      <td>112.6799</td>\n",
       "      <td>113.04</td>\n",
       "      <td>113.04</td>\n",
       "      <td>5011290.0</td>\n",
       "    </tr>\n",
       "    <tr>\n",
       "      <th>8</th>\n",
       "      <td>2021-04-09</td>\n",
       "      <td>112.91</td>\n",
       "      <td>113.2700</td>\n",
       "      <td>111.9700</td>\n",
       "      <td>113.18</td>\n",
       "      <td>113.18</td>\n",
       "      <td>4114258.0</td>\n",
       "    </tr>\n",
       "    <tr>\n",
       "      <th>9</th>\n",
       "      <td>2021-04-12</td>\n",
       "      <td>113.02</td>\n",
       "      <td>113.8900</td>\n",
       "      <td>112.7700</td>\n",
       "      <td>113.81</td>\n",
       "      <td>113.81</td>\n",
       "      <td>4707805.0</td>\n",
       "    </tr>\n",
       "  </tbody>\n",
       "</table>\n",
       "</div>"
      ],
      "text/plain": [
       "         Date    Open      High       Low   Close  Adj Close     Volume\n",
       "0  2021-03-29  109.01  110.2500  106.5900  109.13     109.13  5167195.0\n",
       "1  2021-03-30  108.42  110.4500  108.2800  110.27     110.27  4552862.0\n",
       "2  2021-03-31  110.33  111.6199  109.1900  109.27     109.27  6478401.0\n",
       "3  2021-04-01  110.06  110.0600  108.2000  109.38     109.38  5792950.0\n",
       "4  2021-04-05  109.91  111.3500  109.8700  111.02     111.02  6913105.0\n",
       "5  2021-04-06  111.38  113.8200  111.0950  113.15     113.15  6745242.0\n",
       "6  2021-04-07  112.91  113.7600  112.6500  113.19     113.19  5629622.0\n",
       "7  2021-04-08  113.65  113.9600  112.6799  113.04     113.04  5011290.0\n",
       "8  2021-04-09  112.91  113.2700  111.9700  113.18     113.18  4114258.0\n",
       "9  2021-04-12  113.02  113.8900  112.7700  113.81     113.81  4707805.0"
      ]
     },
     "execution_count": 6,
     "metadata": {},
     "output_type": "execute_result"
    }
   ],
   "source": [
    "data = get_stock_data('SBUX', 1, 'day', '2021-02-28', '2023-02-28')\n",
    "\n",
    "data.head(10)"
   ]
  },
  {
   "cell_type": "code",
   "execution_count": 7,
   "id": "793c4396",
   "metadata": {},
   "outputs": [
    {
     "name": "stdout",
     "output_type": "stream",
     "text": [
      "<class 'pandas.core.frame.DataFrame'>\n",
      "RangeIndex: 484 entries, 0 to 483\n",
      "Data columns (total 7 columns):\n",
      " #   Column     Non-Null Count  Dtype  \n",
      "---  ------     --------------  -----  \n",
      " 0   Date       484 non-null    object \n",
      " 1   Open       484 non-null    float64\n",
      " 2   High       484 non-null    float64\n",
      " 3   Low        484 non-null    float64\n",
      " 4   Close      484 non-null    float64\n",
      " 5   Adj Close  484 non-null    float64\n",
      " 6   Volume     484 non-null    float64\n",
      "dtypes: float64(6), object(1)\n",
      "memory usage: 26.6+ KB\n"
     ]
    }
   ],
   "source": [
    "data.info()"
   ]
  },
  {
   "cell_type": "code",
   "execution_count": 8,
   "id": "e296fe84",
   "metadata": {},
   "outputs": [],
   "source": [
    "split = int(round(data.shape[0]*0.7, 0))\n",
    "train_size = split\n",
    "test_size = data.shape[0] - split\n",
    "\n",
    "data_train = data[:split]\n",
    "data_test = data[split:]"
   ]
  },
  {
   "cell_type": "code",
   "execution_count": 9,
   "id": "0ffd6362",
   "metadata": {},
   "outputs": [],
   "source": [
    "data_train = data_train.reset_index(drop=True)\n",
    "data_test = data_test.reset_index(drop=True)"
   ]
  },
  {
   "cell_type": "code",
   "execution_count": 10,
   "id": "c5eb4ced",
   "metadata": {},
   "outputs": [
    {
     "data": {
      "text/plain": [
       "(        High     Low   Close     Volume\n",
       " 18  117.9800  115.84  117.56  4559282.0\n",
       " 19  117.2500  115.06  115.92  5924931.0\n",
       " 20  116.3899  115.27  116.15  7260927.0,\n",
       " 112.4)"
      ]
     },
     "execution_count": 10,
     "metadata": {},
     "output_type": "execute_result"
    }
   ],
   "source": [
    "def subsample_sequence(sequence, length, horizon):\n",
    "    \n",
    "    # Randomly select a starting point for subsample\n",
    "    random_start = np.random.randint(0, len(sequence) - length - horizon)\n",
    "\n",
    "    \n",
    "    # Sample\n",
    "    X = sequence[random_start:random_start +length].drop(columns=['Open','Date', 'Adj Close']) # Remove target closing price & date\n",
    "    y = sequence.loc[random_start + length + horizon - 1, 'Close']\n",
    "    \n",
    "    return X, y\n",
    "\n",
    "subsample_sequence(data, 3, 1)"
   ]
  },
  {
   "cell_type": "code",
   "execution_count": 11,
   "id": "685f90bf",
   "metadata": {},
   "outputs": [],
   "source": [
    "def get_X_y(sequence, length, horizon, number_of_samples):\n",
    "    \n",
    "    X, y = [], []\n",
    "    \n",
    "    # Do as many samples as specified\n",
    "    for sample in range(1,number_of_samples + 1):\n",
    "        \n",
    "        # Record sample X & y\n",
    "        xi, yi = subsample_sequence(sequence, length, horizon)\n",
    "        X.append(np.array(xi.values.T.tolist()).T) # Getting the right shape (sequences, observations,features)\n",
    "        y.append(yi)\n",
    "\n",
    "    return np.array(X), np.array(y)"
   ]
  },
  {
   "cell_type": "code",
   "execution_count": 12,
   "id": "544448dd",
   "metadata": {},
   "outputs": [],
   "source": [
    "X_train, y_train = get_X_y(sequence=data_train,\n",
    "               length=100,\n",
    "               horizon=1,\n",
    "               number_of_samples=10000)"
   ]
  },
  {
   "cell_type": "code",
   "execution_count": 13,
   "id": "b75def6a",
   "metadata": {},
   "outputs": [
    {
     "data": {
      "text/plain": [
       "(10000, 100, 4)"
      ]
     },
     "execution_count": 13,
     "metadata": {},
     "output_type": "execute_result"
    }
   ],
   "source": [
    "# 10000 subsamples, each of lenght 100 , each containg 5 features\n",
    "X_train.shape"
   ]
  },
  {
   "cell_type": "code",
   "execution_count": 19,
   "id": "5dbbccc6",
   "metadata": {},
   "outputs": [],
   "source": [
    "y_train = y_train.reshape(10000,1)"
   ]
  },
  {
   "cell_type": "code",
   "execution_count": 20,
   "id": "d4ea4be9",
   "metadata": {},
   "outputs": [],
   "source": [
    "X_test, y_test = get_X_y(sequence=data_test,\n",
    "                          length=100,\n",
    "                          horizon=1,\n",
    "                          number_of_samples=1000)"
   ]
  },
  {
   "cell_type": "code",
   "execution_count": 23,
   "id": "77624f5e",
   "metadata": {},
   "outputs": [
    {
     "name": "stdout",
     "output_type": "stream",
     "text": [
      "Model: \"sequential_5\"\n",
      "_________________________________________________________________\n",
      " Layer (type)                Output Shape              Param #   \n",
      "=================================================================\n",
      " lstm_15 (LSTM)              (None, 100, 15)           1200      \n",
      "                                                                 \n",
      " lstm_16 (LSTM)              (None, 100, 20)           2880      \n",
      "                                                                 \n",
      " lstm_17 (LSTM)              (None, 100, 15)           2160      \n",
      "                                                                 \n",
      " dense_10 (Dense)            (None, 100, 10)           160       \n",
      "                                                                 \n",
      " dense_11 (Dense)            (None, 100, 1)            11        \n",
      "                                                                 \n",
      "=================================================================\n",
      "Total params: 6,411\n",
      "Trainable params: 6,411\n",
      "Non-trainable params: 0\n",
      "_________________________________________________________________\n"
     ]
    }
   ],
   "source": [
    "from tensorflow.keras import models\n",
    "from tensorflow.keras import layers\n",
    "\n",
    "def init_model():\n",
    "\n",
    "    model = models.Sequential()\n",
    "\n",
    "    model.add(layers.LSTM(15, return_sequences=True, activation='tanh', input_shape=(100,4)))\n",
    "    model.add(layers.LSTM(20, return_sequences=True, activation='tanh'))\n",
    "    model.add(layers.LSTM(15, return_sequences=True, activation='tanh'))\n",
    "    model.add(layers.Dense(10, activation='relu'))\n",
    "    model.add(layers.Dense(1, activation='linear'))\n",
    "\n",
    "    model.compile(loss='mse',\n",
    "                  optimizer='rmsprop',\n",
    "                  metrics=['mae'])\n",
    "\n",
    "\n",
    "    return model\n",
    "\n",
    "init_model().summary()"
   ]
  },
  {
   "cell_type": "code",
   "execution_count": 24,
   "id": "a57eaff1",
   "metadata": {},
   "outputs": [
    {
     "name": "stdout",
     "output_type": "stream",
     "text": [
      "Epoch 1/8\n",
      "500/500 [==============================] - 13s 22ms/step - loss: 6617.1084 - mae: 79.1591 - val_loss: 4071.6428 - val_mae: 61.7304\n",
      "Epoch 2/8\n",
      "500/500 [==============================] - 10s 21ms/step - loss: 1897.8691 - mae: 38.0258 - val_loss: 370.9981 - val_mae: 16.0528\n",
      "Epoch 3/8\n",
      "500/500 [==============================] - 10s 21ms/step - loss: 272.5405 - mae: 14.9199 - val_loss: 265.1078 - val_mae: 14.7604\n",
      "Epoch 4/8\n",
      "500/500 [==============================] - 10s 21ms/step - loss: 264.9543 - mae: 14.8352 - val_loss: 265.2750 - val_mae: 14.7528\n",
      "Epoch 5/8\n",
      "500/500 [==============================] - 11s 21ms/step - loss: 264.9900 - mae: 14.8351 - val_loss: 264.9831 - val_mae: 14.7772\n",
      "Epoch 6/8\n",
      "500/500 [==============================] - 11s 21ms/step - loss: 264.7909 - mae: 14.8336 - val_loss: 264.9950 - val_mae: 14.7710\n",
      "Epoch 7/8\n",
      "500/500 [==============================] - 11s 21ms/step - loss: 264.7604 - mae: 14.8247 - val_loss: 265.0277 - val_mae: 14.7657\n",
      "Epoch 8/8\n",
      "500/500 [==============================] - 11s 21ms/step - loss: 264.8940 - mae: 14.8293 - val_loss: 264.9941 - val_mae: 14.7695\n"
     ]
    },
    {
     "data": {
      "text/plain": [
       "<keras.callbacks.History at 0x28ad62230>"
      ]
     },
     "execution_count": 24,
     "metadata": {},
     "output_type": "execute_result"
    }
   ],
   "source": [
    "from tensorflow.keras.callbacks import EarlyStopping\n",
    "model = init_model()\n",
    "\n",
    "es = EarlyStopping(patience=20)\n",
    "\n",
    "model.fit(X_train, y_train, \n",
    "          epochs=8, \n",
    "          batch_size=16, \n",
    "          verbose=1, \n",
    "          callbacks = [es],\n",
    "          validation_split=0.2)"
   ]
  },
  {
   "cell_type": "code",
   "execution_count": 25,
   "id": "cc4b42ce",
   "metadata": {},
   "outputs": [],
   "source": [
    "from scipy import stats\n",
    "\n",
    "def predict_next_day_price(model, X_test, confidence=0.95):\n",
    "    # Use the trained model to make predictions on the test set\n",
    "    y_pred = model.predict(X_test)\n",
    "    # Calculate the mean of all the predictions\n",
    "    mean_prediction = np.mean(y_pred)\n",
    "    # Calculate the standard deviation of the predictions\n",
    "    std_deviation = np.std(y_pred)\n",
    "    # Calculate the confidence interval\n",
    "    interval = stats.norm.interval(confidence, loc=mean_prediction, scale=std_deviation)\n",
    "    lower_bound, upper_bound = interval\n",
    "    # Return the mean prediction and confidence interval as a dictionary\n",
    "    return {'mean_prediction': mean_prediction, 'lower_bound': lower_bound, 'upper_bound': upper_bound}"
   ]
  },
  {
   "cell_type": "code",
   "execution_count": 26,
   "id": "66365717",
   "metadata": {},
   "outputs": [
    {
     "name": "stdout",
     "output_type": "stream",
     "text": [
      "32/32 [==============================] - 1s 6ms/step\n",
      "{'mean_prediction': 95.68415, 'lower_bound': 91.48511679435573, 'upper_bound': 99.88318459724583}\n"
     ]
    }
   ],
   "source": [
    "test_predictions = predict_next_day_price(model, X_test)\n",
    "print(test_predictions)"
   ]
  },
  {
   "cell_type": "code",
   "execution_count": null,
   "id": "18041635",
   "metadata": {},
   "outputs": [],
   "source": []
  }
 ],
 "metadata": {
  "kernelspec": {
   "display_name": "Python 3 (ipykernel)",
   "language": "python",
   "name": "python3"
  },
  "language_info": {
   "codemirror_mode": {
    "name": "ipython",
    "version": 3
   },
   "file_extension": ".py",
   "mimetype": "text/x-python",
   "name": "python",
   "nbconvert_exporter": "python",
   "pygments_lexer": "ipython3",
   "version": "3.10.6"
  },
  "toc": {
   "base_numbering": 1,
   "nav_menu": {},
   "number_sections": true,
   "sideBar": true,
   "skip_h1_title": false,
   "title_cell": "Table of Contents",
   "title_sidebar": "Contents",
   "toc_cell": false,
   "toc_position": {},
   "toc_section_display": true,
   "toc_window_display": false
  }
 },
 "nbformat": 4,
 "nbformat_minor": 5
}
