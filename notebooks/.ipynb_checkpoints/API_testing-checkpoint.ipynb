{
 "cells": [
  {
   "cell_type": "code",
   "execution_count": 8,
   "id": "5dedeec7",
   "metadata": {},
   "outputs": [],
   "source": [
    "import requests\n",
    "import pandas as pd"
   ]
  },
  {
   "cell_type": "code",
   "execution_count": 9,
   "id": "061db832",
   "metadata": {},
   "outputs": [],
   "source": [
    "# copy API key\n",
    "key = 'wQ5FjyMjpTSO2j5vBxbLuIp72hwYd5E5' # key for stock value request\n",
    "api_key = 'rW1fMPt5T8N4lrq6J4HM58LKZj1VBoPl' # key for company fundamentals request"
   ]
  },
  {
   "cell_type": "code",
   "execution_count": 10,
   "id": "218e96f7",
   "metadata": {},
   "outputs": [],
   "source": [
    "tickers = ['AAPL']"
   ]
  },
  {
   "cell_type": "code",
   "execution_count": 11,
   "id": "8f7c0121",
   "metadata": {},
   "outputs": [],
   "source": [
    "# tickers = (input('Input short stock name: '),)\n",
    "start_date = '2022-01-01'\n",
    "end_date = '2023-01-01'\n",
    "timespan = 'year'"
   ]
  },
  {
   "cell_type": "code",
   "execution_count": 12,
   "id": "3b0fd1de",
   "metadata": {},
   "outputs": [],
   "source": [
    "def get_aggregates(tickers):\n",
    "    \"\"\"Get aggregate bars for a stock\n",
    "    over a given date range in custom time window sizes.\n",
    "    \"\"\"\n",
    "    for ticker in tickers:\n",
    "        print(f'Calling the API for {ticker}:')\n",
    "        url = f'https://api.polygon.io/v2/aggs/ticker/{ticker}/range/1/{timespan}/{start_date}/{end_date}?adjusted=true&sort=asc&limit=120&apiKey={key}'\n",
    "        response = requests.get(url).json()\n",
    "        df = pd.DataFrame(response['results'])\n",
    "        print(df)"
   ]
  },
  {
   "cell_type": "code",
   "execution_count": 13,
   "id": "a8165fab",
   "metadata": {},
   "outputs": [
    {
     "name": "stdout",
     "output_type": "stream",
     "text": [
      "Calling the API for AAPL:\n",
      "              v        vw       o       c       h       l              t  \\\n",
      "0  1.144649e+10  159.7132  177.83  141.66  182.94  129.04  1641013200000   \n",
      "\n",
      "          n  \n",
      "0  95704612  \n"
     ]
    }
   ],
   "source": [
    "get_aggregates(tickers)"
   ]
  },
  {
   "cell_type": "code",
   "execution_count": 14,
   "id": "37f82e18",
   "metadata": {},
   "outputs": [],
   "source": [
    "ticker = tickers[0]\n",
    "url = f'https://api.polygon.io/vX/reference/financials?ticker={ticker}&timeframe=quarterly&include_sources=true&apiKey={api_key}'\n",
    "\n",
    "fundamentals = requests.get(url).json()"
   ]
  },
  {
   "cell_type": "code",
   "execution_count": 16,
   "id": "958ff372",
   "metadata": {},
   "outputs": [],
   "source": [
    "fundam_df = pd.DataFrame.from_dict(fundamentals['results'][0]['financials']['income_statement']).T.sort_values(by = 'order')"
   ]
  },
  {
   "cell_type": "code",
   "execution_count": 20,
   "id": "fb2cc1a5",
   "metadata": {},
   "outputs": [
    {
     "data": {
      "text/html": [
       "<div>\n",
       "<style scoped>\n",
       "    .dataframe tbody tr th:only-of-type {\n",
       "        vertical-align: middle;\n",
       "    }\n",
       "\n",
       "    .dataframe tbody tr th {\n",
       "        vertical-align: top;\n",
       "    }\n",
       "\n",
       "    .dataframe thead th {\n",
       "        text-align: right;\n",
       "    }\n",
       "</style>\n",
       "<table border=\"1\" class=\"dataframe\">\n",
       "  <thead>\n",
       "    <tr style=\"text-align: right;\">\n",
       "      <th></th>\n",
       "      <th>label</th>\n",
       "      <th>value</th>\n",
       "      <th>unit</th>\n",
       "      <th>order</th>\n",
       "      <th>xpath</th>\n",
       "      <th>formula</th>\n",
       "    </tr>\n",
       "  </thead>\n",
       "  <tbody>\n",
       "    <tr>\n",
       "      <th>revenues</th>\n",
       "      <td>Revenues</td>\n",
       "      <td>117154000000.0</td>\n",
       "      <td>USD</td>\n",
       "      <td>100</td>\n",
       "      <td>//*[local-name()='RevenueFromContractWithCusto...</td>\n",
       "      <td>NaN</td>\n",
       "    </tr>\n",
       "    <tr>\n",
       "      <th>benefits_costs_expenses</th>\n",
       "      <td>Benefits Costs and Expenses</td>\n",
       "      <td>81531000000.0</td>\n",
       "      <td>USD</td>\n",
       "      <td>200</td>\n",
       "      <td>NaN</td>\n",
       "      <td>IS-Impute-202</td>\n",
       "    </tr>\n",
       "  </tbody>\n",
       "</table>\n",
       "</div>"
      ],
      "text/plain": [
       "                                               label           value unit  \\\n",
       "revenues                                    Revenues  117154000000.0  USD   \n",
       "benefits_costs_expenses  Benefits Costs and Expenses   81531000000.0  USD   \n",
       "\n",
       "                        order  \\\n",
       "revenues                  100   \n",
       "benefits_costs_expenses   200   \n",
       "\n",
       "                                                                     xpath  \\\n",
       "revenues                 //*[local-name()='RevenueFromContractWithCusto...   \n",
       "benefits_costs_expenses                                                NaN   \n",
       "\n",
       "                               formula  \n",
       "revenues                           NaN  \n",
       "benefits_costs_expenses  IS-Impute-202  "
      ]
     },
     "execution_count": 20,
     "metadata": {},
     "output_type": "execute_result"
    }
   ],
   "source": [
    "fundam_df.iloc[0:2,:]"
   ]
  },
  {
   "cell_type": "code",
   "execution_count": 23,
   "id": "84d5b6b8",
   "metadata": {},
   "outputs": [
    {
     "data": {
      "text/plain": [
       "'2022-09-25'"
      ]
     },
     "execution_count": 23,
     "metadata": {},
     "output_type": "execute_result"
    }
   ],
   "source": [
    "fundamentals['results'][0]['start_date']"
   ]
  },
  {
   "cell_type": "code",
   "execution_count": 24,
   "id": "fe82593a",
   "metadata": {},
   "outputs": [],
   "source": [
    "mer = pd.DataFrame.from_dict(fundamentals['results'][0]['financials']['income_statement'])"
   ]
  },
  {
   "cell_type": "code",
   "execution_count": 28,
   "id": "82d87216",
   "metadata": {},
   "outputs": [
    {
     "data": {
      "text/plain": [
       "label                             Diluted Earnings Per Share\n",
       "value                                                   1.88\n",
       "unit                                            USD / shares\n",
       "order                                                   4300\n",
       "xpath      //*[local-name()='EarningsPerShareDiluted' and...\n",
       "formula                                                  NaN\n",
       "Name: diluted_earnings_per_share, dtype: object"
      ]
     },
     "execution_count": 28,
     "metadata": {},
     "output_type": "execute_result"
    }
   ],
   "source": [
    "mer.diluted_earnings_per_share"
   ]
  },
  {
   "cell_type": "markdown",
   "id": "bef7fd77",
   "metadata": {},
   "source": [
    "## EPS"
   ]
  },
  {
   "cell_type": "code",
   "execution_count": 29,
   "id": "2f8b08ec",
   "metadata": {},
   "outputs": [],
   "source": [
    "def get_eps(ticker):\n",
    "    \"\"\"\n",
    "    Gets the diluted_earnings_per_share value for \n",
    "    last quarter for the selected ticker\n",
    "    \"\"\"\n",
    "    url = f'https://api.polygon.io/vX/reference/financials?ticker={ticker}&timeframe=quarterly&include_sources=true&apiKey={api_key}'\n",
    "\n",
    "    fundamentals = requests.get(url).json()\n",
    "    fundamentals_df = pd.DataFrame.from_dict(fundamentals['results'][0]['financials']['income_statement'])\n",
    "    eps = fundamentals_df.diluted_earnings_per_share.value\n",
    "    return eps"
   ]
  },
  {
   "cell_type": "code",
   "execution_count": 33,
   "id": "3ed7d28b",
   "metadata": {},
   "outputs": [
    {
     "data": {
      "text/plain": [
       "0.95"
      ]
     },
     "execution_count": 33,
     "metadata": {},
     "output_type": "execute_result"
    }
   ],
   "source": [
    "get_eps('TSLA')"
   ]
  },
  {
   "cell_type": "code",
   "execution_count": null,
   "id": "38e49c9b",
   "metadata": {},
   "outputs": [],
   "source": []
  }
 ],
 "metadata": {
  "kernelspec": {
   "display_name": "Python 3 (ipykernel)",
   "language": "python",
   "name": "python3"
  },
  "language_info": {
   "codemirror_mode": {
    "name": "ipython",
    "version": 3
   },
   "file_extension": ".py",
   "mimetype": "text/x-python",
   "name": "python",
   "nbconvert_exporter": "python",
   "pygments_lexer": "ipython3",
   "version": "3.10.6"
  },
  "toc": {
   "base_numbering": 1,
   "nav_menu": {},
   "number_sections": true,
   "sideBar": true,
   "skip_h1_title": false,
   "title_cell": "Table of Contents",
   "title_sidebar": "Contents",
   "toc_cell": false,
   "toc_position": {},
   "toc_section_display": true,
   "toc_window_display": false
  }
 },
 "nbformat": 4,
 "nbformat_minor": 5
}
