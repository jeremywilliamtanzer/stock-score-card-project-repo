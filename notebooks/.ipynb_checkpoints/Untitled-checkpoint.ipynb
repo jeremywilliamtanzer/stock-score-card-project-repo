{
 "cells": [
  {
   "cell_type": "code",
   "execution_count": 7,
   "id": "4ac59043",
   "metadata": {},
   "outputs": [],
   "source": [
    "import requests\n",
    "import os"
   ]
  },
  {
   "cell_type": "code",
   "execution_count": 32,
   "id": "260ec726",
   "metadata": {},
   "outputs": [],
   "source": [
    "def get_ticker_details(tickers):\n",
    "    tickers = tickers.upper()\n",
    "    POLY_KEY = 'wQ5FjyMjpTSO2j5vBxbLuIp72hwYd5E5'\n",
    "    # Get ticker details from Polygon's Stocks API\n",
    "    url = f\"https://api.polygon.io/v3/reference/tickers/{tickers}?&apikey={POLY_KEY}\"\n",
    "    ticker_details = requests.get(url).json()\n",
    "    company_logo = ticker_details[\"results\"][\"branding\"][\"logo_url\"] + '?apiKey=' + POLY_KEY\n",
    "    company_name = ticker_details[\"results\"][\"name\"]\n",
    "    company_sector = ticker_details[\"results\"][\"sic_description\"]\n",
    "    #Divident Yield:\n",
    "    return company_logo, company_name, company_sector"
   ]
  },
  {
   "cell_type": "code",
   "execution_count": 40,
   "id": "05578058",
   "metadata": {},
   "outputs": [
    {
     "ename": "TypeError",
     "evalue": "list indices must be integers or slices, not str",
     "output_type": "error",
     "traceback": [
      "\u001b[0;31m---------------------------------------------------------------------------\u001b[0m",
      "\u001b[0;31mTypeError\u001b[0m                                 Traceback (most recent call last)",
      "Cell \u001b[0;32mIn[40], line 2\u001b[0m\n\u001b[1;32m      1\u001b[0m tickers \u001b[38;5;241m=\u001b[39m \u001b[38;5;124m'\u001b[39m\u001b[38;5;124maapl\u001b[39m\u001b[38;5;124m'\u001b[39m\u001b[38;5;241m.\u001b[39mupper()\n\u001b[0;32m----> 2\u001b[0m \u001b[43mget_ticker_details\u001b[49m\u001b[43m(\u001b[49m\u001b[43mticker\u001b[49m\u001b[43m)\u001b[49m\n",
      "Cell \u001b[0;32mIn[32], line 6\u001b[0m, in \u001b[0;36mget_ticker_details\u001b[0;34m(tickers)\u001b[0m\n\u001b[1;32m      4\u001b[0m url \u001b[38;5;241m=\u001b[39m \u001b[38;5;124mf\u001b[39m\u001b[38;5;124m\"\u001b[39m\u001b[38;5;124mhttps://api.polygon.io/v3/reference/tickers?\u001b[39m\u001b[38;5;132;01m{\u001b[39;00mtickers\u001b[38;5;132;01m}\u001b[39;00m\u001b[38;5;124m&apikey=\u001b[39m\u001b[38;5;132;01m{\u001b[39;00mPOLY_KEY\u001b[38;5;132;01m}\u001b[39;00m\u001b[38;5;124m\"\u001b[39m\n\u001b[1;32m      5\u001b[0m ticker_details \u001b[38;5;241m=\u001b[39m requests\u001b[38;5;241m.\u001b[39mget(url)\u001b[38;5;241m.\u001b[39mjson()\n\u001b[0;32m----> 6\u001b[0m company_logo \u001b[38;5;241m=\u001b[39m \u001b[43mticker_details\u001b[49m\u001b[43m[\u001b[49m\u001b[38;5;124;43m\"\u001b[39;49m\u001b[38;5;124;43mresults\u001b[39;49m\u001b[38;5;124;43m\"\u001b[39;49m\u001b[43m]\u001b[49m\u001b[43m[\u001b[49m\u001b[38;5;124;43m\"\u001b[39;49m\u001b[38;5;124;43mbranding\u001b[39;49m\u001b[38;5;124;43m\"\u001b[39;49m\u001b[43m]\u001b[49m[\u001b[38;5;124m\"\u001b[39m\u001b[38;5;124mlogo_url\u001b[39m\u001b[38;5;124m\"\u001b[39m] \u001b[38;5;241m+\u001b[39m \u001b[38;5;124m'\u001b[39m\u001b[38;5;124m?apiKey=\u001b[39m\u001b[38;5;124m'\u001b[39m \u001b[38;5;241m+\u001b[39m POLY_KEY\n\u001b[1;32m      7\u001b[0m company_name \u001b[38;5;241m=\u001b[39m ticker_details[\u001b[38;5;124m\"\u001b[39m\u001b[38;5;124mresults\u001b[39m\u001b[38;5;124m\"\u001b[39m][\u001b[38;5;124m\"\u001b[39m\u001b[38;5;124mname\u001b[39m\u001b[38;5;124m\"\u001b[39m]\n\u001b[1;32m      8\u001b[0m company_sector \u001b[38;5;241m=\u001b[39m ticker_details[\u001b[38;5;124m\"\u001b[39m\u001b[38;5;124mresults\u001b[39m\u001b[38;5;124m\"\u001b[39m][\u001b[38;5;124m\"\u001b[39m\u001b[38;5;124msic_description\u001b[39m\u001b[38;5;124m\"\u001b[39m]\n",
      "\u001b[0;31mTypeError\u001b[0m: list indices must be integers or slices, not str"
     ]
    }
   ],
   "source": [
    "tickers = 'aapl'.upper()\n",
    "get_ticker_details(ticker)"
   ]
  },
  {
   "cell_type": "code",
   "execution_count": 41,
   "id": "7f3010fc",
   "metadata": {},
   "outputs": [
    {
     "data": {
      "text/plain": [
       "{'request_id': '4e0ed60a73df294f0ddcd921a427f165',\n",
       " 'results': {'ticker': 'AAPL',\n",
       "  'name': 'Apple Inc.',\n",
       "  'market': 'stocks',\n",
       "  'locale': 'us',\n",
       "  'primary_exchange': 'XNAS',\n",
       "  'type': 'CS',\n",
       "  'active': True,\n",
       "  'currency_name': 'usd',\n",
       "  'cik': '0000320193',\n",
       "  'composite_figi': 'BBG000B9XRY4',\n",
       "  'share_class_figi': 'BBG001S5N8V8',\n",
       "  'market_cap': 2535466846500.0,\n",
       "  'phone_number': '(408) 996-1010',\n",
       "  'address': {'address1': 'ONE APPLE PARK WAY',\n",
       "   'city': 'CUPERTINO',\n",
       "   'state': 'CA',\n",
       "   'postal_code': '95014'},\n",
       "  'description': \"Apple designs a wide variety of consumer electronic devices, including smartphones (iPhone), tablets (iPad), PCs (Mac), smartwatches (Apple Watch), and AirPods. The iPhone makes up most of Apple's total revenue. In addition, Apple offers its customers a variety of services such as Apple Music, iCloud, Apple Care, Apple TV+, Apple Arcade, Apple Fitness, Apple Card, and Apple Pay, among others. Apple's products include internally developed software and semiconductors, and the firm is well known for its integration of hardware, software, semiconductors, and services. Apple's products are distributed online as well as through company-owned stores and third-party retailers. The company generates roughly 40% of its revenue from the Americas, with the remainder earned internationally.\",\n",
       "  'sic_code': '3571',\n",
       "  'sic_description': 'ELECTRONIC COMPUTERS',\n",
       "  'ticker_root': 'AAPL',\n",
       "  'homepage_url': 'https://www.apple.com',\n",
       "  'total_employees': 164000,\n",
       "  'list_date': '1980-12-12',\n",
       "  'branding': {'logo_url': 'https://api.polygon.io/v1/reference/company-branding/d3d3LmFwcGxlLmNvbQ/images/2023-03-01_logo.svg',\n",
       "   'icon_url': 'https://api.polygon.io/v1/reference/company-branding/d3d3LmFwcGxlLmNvbQ/images/2023-03-01_icon.jpeg'},\n",
       "  'share_class_shares_outstanding': 15821950000,\n",
       "  'weighted_shares_outstanding': 15821946000,\n",
       "  'round_lot': 100},\n",
       " 'status': 'OK'}"
      ]
     },
     "execution_count": 41,
     "metadata": {},
     "output_type": "execute_result"
    }
   ],
   "source": [
    "#company_logo = ticker_details[\"results\"][\"branding\"][\"logo_url\"] + '?apiKey=' + POLY_KEY\n",
    "#company_name = ticker_details[\"results\"][\"name\"]\n",
    "#company_sector = ticker_details[\"results\"][\"sic_description\"]\n",
    "   # = f'https://api.polygon.io/v3/reference/tickers/AAPL?apiKey=6TUP2cDDgZYa4bivsF2SldEbp8E6vYKn'\n",
    "url = f\"https://api.polygon.io/v3/reference/tickers/{tickers}?&apikey={POLY_KEY}\"\n",
    "ticker_details = requests.get(url).json()\n",
    "ticker_details"
   ]
  },
  {
   "cell_type": "code",
   "execution_count": null,
   "id": "f4556548",
   "metadata": {},
   "outputs": [],
   "source": []
  }
 ],
 "metadata": {
  "kernelspec": {
   "display_name": "Python 3 (ipykernel)",
   "language": "python",
   "name": "python3"
  },
  "language_info": {
   "codemirror_mode": {
    "name": "ipython",
    "version": 3
   },
   "file_extension": ".py",
   "mimetype": "text/x-python",
   "name": "python",
   "nbconvert_exporter": "python",
   "pygments_lexer": "ipython3",
   "version": "3.10.6"
  },
  "toc": {
   "base_numbering": 1,
   "nav_menu": {},
   "number_sections": true,
   "sideBar": true,
   "skip_h1_title": false,
   "title_cell": "Table of Contents",
   "title_sidebar": "Contents",
   "toc_cell": false,
   "toc_position": {},
   "toc_section_display": true,
   "toc_window_display": false
  }
 },
 "nbformat": 4,
 "nbformat_minor": 5
}
