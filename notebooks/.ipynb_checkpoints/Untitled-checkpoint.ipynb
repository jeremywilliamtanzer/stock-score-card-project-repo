{
 "cells": [
  {
   "cell_type": "code",
   "execution_count": 2,
   "id": "d5759004",
   "metadata": {},
   "outputs": [],
   "source": [
    "import requests\n",
    "POLY_KEY = 'wQ5FjyMjpTSO2j5vBxbLuIp72hwYd5E5'\n"
   ]
  },
  {
   "cell_type": "code",
   "execution_count": 3,
   "id": "8d28259d",
   "metadata": {},
   "outputs": [],
   "source": [
    "def market_cap(tickers):\n",
    "    #change to uppercase\n",
    "    tickers = tickers.upper()\n",
    "    #instantiate url\n",
    "    url = f'https://api.polygon.io/vX/reference/tickers/{tickers}?apiKey={POLY_KEY}'\n",
    "    #response in .json\n",
    "    api = requests.get(url).json()\n",
    "    #get market cap + round to 2decimal and return in millions\n",
    "    mkt_cap = round((api['results']['market_cap'] / 1_000_000_000), 2)\n",
    "    return {'market_capitalization' : float(mkt_cap)}\n"
   ]
  },
  {
   "cell_type": "code",
   "execution_count": 5,
   "id": "9ee6cfd5",
   "metadata": {},
   "outputs": [],
   "source": [
    "ticker = 'aapl'\n",
    "a = market_cap(ticker)"
   ]
  },
  {
   "cell_type": "code",
   "execution_count": 7,
   "id": "22bb8594",
   "metadata": {},
   "outputs": [
    {
     "data": {
      "text/plain": [
       "2520.12"
      ]
     },
     "execution_count": 7,
     "metadata": {},
     "output_type": "execute_result"
    }
   ],
   "source": [
    "a['market_capitalization']"
   ]
  },
  {
   "cell_type": "code",
   "execution_count": null,
   "id": "ecaf916e",
   "metadata": {},
   "outputs": [],
   "source": []
  }
 ],
 "metadata": {
  "kernelspec": {
   "display_name": "Python 3 (ipykernel)",
   "language": "python",
   "name": "python3"
  },
  "language_info": {
   "codemirror_mode": {
    "name": "ipython",
    "version": 3
   },
   "file_extension": ".py",
   "mimetype": "text/x-python",
   "name": "python",
   "nbconvert_exporter": "python",
   "pygments_lexer": "ipython3",
   "version": "3.10.6"
  },
  "toc": {
   "base_numbering": 1,
   "nav_menu": {},
   "number_sections": true,
   "sideBar": true,
   "skip_h1_title": false,
   "title_cell": "Table of Contents",
   "title_sidebar": "Contents",
   "toc_cell": false,
   "toc_position": {},
   "toc_section_display": true,
   "toc_window_display": false
  }
 },
 "nbformat": 4,
 "nbformat_minor": 5
}
