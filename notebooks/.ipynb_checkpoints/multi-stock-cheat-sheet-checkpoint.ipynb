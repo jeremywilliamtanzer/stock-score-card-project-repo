{
 "cells": [
  {
   "cell_type": "markdown",
   "id": "d16b5780",
   "metadata": {},
   "source": [
    "# LSTM"
   ]
  },
  {
   "cell_type": "markdown",
   "id": "73e68676",
   "metadata": {},
   "source": [
    "Predict the next day closing price of google using google and apple stock features."
   ]
  },
  {
   "cell_type": "markdown",
   "id": "f514ea08",
   "metadata": {},
   "source": [
    "👇 Load google "
   ]
  },
  {
   "cell_type": "code",
   "execution_count": 29,
   "id": "14dfbebc",
   "metadata": {},
   "outputs": [
    {
     "data": {
      "text/html": [
       "<div>\n",
       "<style scoped>\n",
       "    .dataframe tbody tr th:only-of-type {\n",
       "        vertical-align: middle;\n",
       "    }\n",
       "\n",
       "    .dataframe tbody tr th {\n",
       "        vertical-align: top;\n",
       "    }\n",
       "\n",
       "    .dataframe thead th {\n",
       "        text-align: right;\n",
       "    }\n",
       "</style>\n",
       "<table border=\"1\" class=\"dataframe\">\n",
       "  <thead>\n",
       "    <tr style=\"text-align: right;\">\n",
       "      <th></th>\n",
       "      <th>Date</th>\n",
       "      <th>Open</th>\n",
       "      <th>High</th>\n",
       "      <th>Low</th>\n",
       "      <th>Close</th>\n",
       "      <th>Adj Close</th>\n",
       "      <th>Volume</th>\n",
       "    </tr>\n",
       "  </thead>\n",
       "  <tbody>\n",
       "    <tr>\n",
       "      <th>0</th>\n",
       "      <td>2010-03-08</td>\n",
       "      <td>7.857500</td>\n",
       "      <td>7.860357</td>\n",
       "      <td>7.794643</td>\n",
       "      <td>7.824286</td>\n",
       "      <td>6.659394</td>\n",
       "      <td>429889600</td>\n",
       "    </tr>\n",
       "    <tr>\n",
       "      <th>1</th>\n",
       "      <td>2010-03-09</td>\n",
       "      <td>7.796786</td>\n",
       "      <td>8.035714</td>\n",
       "      <td>7.781786</td>\n",
       "      <td>7.965000</td>\n",
       "      <td>6.779158</td>\n",
       "      <td>920259200</td>\n",
       "    </tr>\n",
       "    <tr>\n",
       "      <th>2</th>\n",
       "      <td>2010-03-10</td>\n",
       "      <td>7.993929</td>\n",
       "      <td>8.052857</td>\n",
       "      <td>7.971429</td>\n",
       "      <td>8.030000</td>\n",
       "      <td>6.834479</td>\n",
       "      <td>596218000</td>\n",
       "    </tr>\n",
       "    <tr>\n",
       "      <th>3</th>\n",
       "      <td>2010-03-11</td>\n",
       "      <td>7.996786</td>\n",
       "      <td>8.053571</td>\n",
       "      <td>7.975714</td>\n",
       "      <td>8.053571</td>\n",
       "      <td>6.854542</td>\n",
       "      <td>405700400</td>\n",
       "    </tr>\n",
       "    <tr>\n",
       "      <th>4</th>\n",
       "      <td>2010-03-12</td>\n",
       "      <td>8.120357</td>\n",
       "      <td>8.133214</td>\n",
       "      <td>8.062500</td>\n",
       "      <td>8.092857</td>\n",
       "      <td>6.887981</td>\n",
       "      <td>416323600</td>\n",
       "    </tr>\n",
       "  </tbody>\n",
       "</table>\n",
       "</div>"
      ],
      "text/plain": [
       "         Date      Open      High       Low     Close  Adj Close     Volume\n",
       "0  2010-03-08  7.857500  7.860357  7.794643  7.824286   6.659394  429889600\n",
       "1  2010-03-09  7.796786  8.035714  7.781786  7.965000   6.779158  920259200\n",
       "2  2010-03-10  7.993929  8.052857  7.971429  8.030000   6.834479  596218000\n",
       "3  2010-03-11  7.996786  8.053571  7.975714  8.053571   6.854542  405700400\n",
       "4  2010-03-12  8.120357  8.133214  8.062500  8.092857   6.887981  416323600"
      ]
     },
     "execution_count": 29,
     "metadata": {},
     "output_type": "execute_result"
    }
   ],
   "source": [
    "import pandas as pd\n",
    "apple_data = pd.read_csv(\"AAPL.csv\")\n",
    "apple_data.head()"
   ]
  },
  {
   "cell_type": "code",
   "execution_count": 30,
   "id": "983bc8e7",
   "metadata": {},
   "outputs": [],
   "source": [
    "data_train = apple_data[:2583]\n",
    "data_test = apple_data[2583:]"
   ]
  },
  {
   "cell_type": "markdown",
   "id": "bf394a3f",
   "metadata": {},
   "source": [
    "## Preprocessing"
   ]
  },
  {
   "cell_type": "markdown",
   "id": "4bed62c0",
   "metadata": {},
   "source": [
    "👇 Making subsamples"
   ]
  },
  {
   "cell_type": "code",
   "execution_count": 31,
   "id": "6c3471bc",
   "metadata": {},
   "outputs": [
    {
     "data": {
      "text/plain": [
       "(          Open       High        Low  Adj Close     Volume\n",
       " 234  12.631429  12.697143  12.576786  10.797042  381040800\n",
       " 235  12.685357  12.821429  12.673929  10.887021  482745200\n",
       " 236  12.763929  12.857143  12.428571  10.776980  928550000,\n",
       " 12.744643)"
      ]
     },
     "execution_count": 31,
     "metadata": {},
     "output_type": "execute_result"
    }
   ],
   "source": [
    "import numpy as np\n",
    "def subsample_sequence(sequence, length, horizon):\n",
    "\n",
    "    # Bounds of sampling\n",
    "    last_possible = len(sequence) - length - horizon\n",
    "    random_start = np.random.randint(0, last_possible)\n",
    "\n",
    "    # Sample\n",
    "    X = sequence[random_start:random_start +length].drop(columns=['Close','Date']) # Remove target closing price & date\n",
    "    y = sequence.loc[random_start+length+horizon-1]['Close'] # Target is closing price\n",
    "\n",
    "    return X, y\n",
    "\n",
    "\n",
    "subsample_sequence(apple_data, 3, 1)\n"
   ]
  },
  {
   "cell_type": "code",
   "execution_count": 32,
   "id": "a9afb376",
   "metadata": {},
   "outputs": [],
   "source": [
    "def get_X_y(sequence, length, horizon, number_of_samples):\n",
    "    \n",
    "    X, y = [], []\n",
    "    \n",
    "    # Do as many samples as specified\n",
    "    for sample in range(1,number_of_samples + 1):\n",
    "        \n",
    "        # Record sample X & y\n",
    "        xi, yi = subsample_sequence(sequence, length, horizon)\n",
    "        X.append(np.array(xi.values.T.tolist()).T) # Getting the right shape (sequences, observations,features)\n",
    "        y.append(yi)\n",
    "\n",
    "    return np.array(X), np.array(y)"
   ]
  },
  {
   "cell_type": "code",
   "execution_count": 33,
   "id": "1f6ba801",
   "metadata": {},
   "outputs": [],
   "source": [
    "X_train, y_train = get_X_y(sequence=data_train,\n",
    "               length=500,\n",
    "               horizon=1,\n",
    "               number_of_samples=10000)\n"
   ]
  },
  {
   "cell_type": "code",
   "execution_count": 34,
   "id": "64494fa3",
   "metadata": {},
   "outputs": [
    {
     "data": {
      "text/plain": [
       "(10000, 500, 5)"
      ]
     },
     "execution_count": 34,
     "metadata": {},
     "output_type": "execute_result"
    }
   ],
   "source": [
    "# 1000 subsamples, each of lenght 100 , each containg 5 features\n",
    "X_train.shape"
   ]
  },
  {
   "cell_type": "code",
   "execution_count": 36,
   "id": "675ebd6d",
   "metadata": {},
   "outputs": [],
   "source": [
    "y_train = y_train.reshape(10000,1)"
   ]
  },
  {
   "cell_type": "code",
   "execution_count": 37,
   "id": "5c49fe14",
   "metadata": {},
   "outputs": [
    {
     "name": "stdout",
     "output_type": "stream",
     "text": [
      "Model: \"sequential_5\"\n",
      "_________________________________________________________________\n",
      " Layer (type)                Output Shape              Param #   \n",
      "=================================================================\n",
      " lstm_10 (LSTM)              (None, 500, 10)           640       \n",
      "                                                                 \n",
      " lstm_11 (LSTM)              (None, 500, 20)           2480      \n",
      "                                                                 \n",
      " lstm_12 (LSTM)              (None, 500, 10)           1240      \n",
      "                                                                 \n",
      " dense_10 (Dense)            (None, 500, 5)            55        \n",
      "                                                                 \n",
      " dense_11 (Dense)            (None, 500, 1)            6         \n",
      "                                                                 \n",
      "=================================================================\n",
      "Total params: 4,421\n",
      "Trainable params: 4,421\n",
      "Non-trainable params: 0\n",
      "_________________________________________________________________\n"
     ]
    }
   ],
   "source": [
    "from tensorflow.keras import models\n",
    "from tensorflow.keras import layers\n",
    "\n",
    "def init_model():\n",
    "\n",
    "    model = models.Sequential()\n",
    "\n",
    "    model.add(layers.LSTM(10, return_sequences=True, activation='tanh', input_shape=(500,5)))\n",
    "    model.add(layers.LSTM(20, return_sequences=True, activation='tanh'))\n",
    "    model.add(layers.LSTM(10, return_sequences=True, activation='tanh'))\n",
    "    model.add(layers.Dense(5, activation='relu'))\n",
    "    model.add(layers.Dense(1, activation='linear'))\n",
    "\n",
    "    model.compile(loss='mse',\n",
    "                  optimizer='rmsprop',\n",
    "                  metrics=['mae'])\n",
    "\n",
    "\n",
    "    return model\n",
    "\n",
    "init_model().summary()"
   ]
  },
  {
   "cell_type": "code",
   "execution_count": 38,
   "id": "5189f93d",
   "metadata": {
    "scrolled": true
   },
   "outputs": [
    {
     "name": "stdout",
     "output_type": "stream",
     "text": [
      "Epoch 1/50\n",
      "204/250 [=======================>......] - ETA: 8s - loss: 1257.4004 - mae: 31.8503"
     ]
    }
   ],
   "source": [
    "from tensorflow.keras.callbacks import EarlyStopping\n",
    "model = init_model()\n",
    "\n",
    "es = EarlyStopping(patience=20)\n",
    "\n",
    "model.fit(X_train, y_train, \n",
    "          epochs=50, \n",
    "          batch_size=32, \n",
    "          verbose=1, \n",
    "          callbacks = [es],\n",
    "          validation_split=0.2)"
   ]
  },
  {
   "cell_type": "code",
   "execution_count": null,
   "id": "55e9f4ad",
   "metadata": {},
   "outputs": [],
   "source": []
  },
  {
   "cell_type": "code",
   "execution_count": null,
   "id": "ac7b5125",
   "metadata": {},
   "outputs": [],
   "source": []
  }
 ],
 "metadata": {
  "kernelspec": {
   "display_name": "Python 3 (ipykernel)",
   "language": "python",
   "name": "python3"
  },
  "language_info": {
   "codemirror_mode": {
    "name": "ipython",
    "version": 3
   },
   "file_extension": ".py",
   "mimetype": "text/x-python",
   "name": "python",
   "nbconvert_exporter": "python",
   "pygments_lexer": "ipython3",
   "version": "3.10.6"
  },
  "toc": {
   "base_numbering": 1,
   "nav_menu": {},
   "number_sections": true,
   "sideBar": true,
   "skip_h1_title": false,
   "title_cell": "Table of Contents",
   "title_sidebar": "Contents",
   "toc_cell": false,
   "toc_position": {},
   "toc_section_display": true,
   "toc_window_display": false
  }
 },
 "nbformat": 4,
 "nbformat_minor": 5
}
