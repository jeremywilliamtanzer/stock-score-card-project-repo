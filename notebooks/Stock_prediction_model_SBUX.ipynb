{
 "cells": [
  {
   "cell_type": "code",
   "execution_count": 1,
   "id": "48bc94ac",
   "metadata": {},
   "outputs": [],
   "source": [
    "import pandas as pd\n",
    "import numpy as np\n",
    "import requests\n",
    "# from api_key import key\n",
    "from datetime import date\n",
    "from dateutil.relativedelta import relativedelta"
   ]
  },
  {
   "cell_type": "code",
   "execution_count": 3,
   "id": "277545c2",
   "metadata": {},
   "outputs": [],
   "source": [
    "def get_stock_data(ticker, multiplier, timespan, from_date, to_date):\n",
    "    # Make the API request\n",
    "    api_url = f\"https://api.polygon.io/v2/aggs/ticker/{ticker}/range/{multiplier}/{timespan}/{from_date}/{to_date}\"\n",
    "    response = requests.get(api_url, params={\"apiKey\": \"wQ5FjyMjpTSO2j5vBxbLuIp72hwYd5E5\"})\n",
    "\n",
    "    # Check for errors\n",
    "    if response.status_code != 200:\n",
    "        raise Exception(f\"Error {response.status_code}: {response.text}\")\n",
    "\n",
    "    # Extract the data from the response\n",
    "    data = response.json()[\"results\"]\n",
    "    stock_data = []\n",
    "    for d in data:\n",
    "        stock_data.append({\n",
    "            \"Date\": pd.to_datetime(d[\"t\"], unit='ms').date(),\n",
    "            \"Open\": d[\"o\"],\n",
    "            \"High\": d[\"h\"],\n",
    "            \"Low\": d[\"l\"],\n",
    "            \"Close\": d[\"c\"],\n",
    "            \"Adj Close\": d[\"c\"],\n",
    "            \"Volume\": d[\"v\"],\n",
    "        })\n",
    "     \n",
    "     # Convert the data to a dataframe\n",
    "    df = pd.DataFrame(stock_data)\n",
    "    df = df.reset_index(drop=True)\n",
    "    \n",
    "    return df"
   ]
  },
  {
   "cell_type": "code",
   "execution_count": 4,
   "id": "578a0ec1",
   "metadata": {},
   "outputs": [
    {
     "data": {
      "text/html": [
       "<div>\n",
       "<style scoped>\n",
       "    .dataframe tbody tr th:only-of-type {\n",
       "        vertical-align: middle;\n",
       "    }\n",
       "\n",
       "    .dataframe tbody tr th {\n",
       "        vertical-align: top;\n",
       "    }\n",
       "\n",
       "    .dataframe thead th {\n",
       "        text-align: right;\n",
       "    }\n",
       "</style>\n",
       "<table border=\"1\" class=\"dataframe\">\n",
       "  <thead>\n",
       "    <tr style=\"text-align: right;\">\n",
       "      <th></th>\n",
       "      <th>Date</th>\n",
       "      <th>Open</th>\n",
       "      <th>High</th>\n",
       "      <th>Low</th>\n",
       "      <th>Close</th>\n",
       "      <th>Adj Close</th>\n",
       "      <th>Volume</th>\n",
       "    </tr>\n",
       "  </thead>\n",
       "  <tbody>\n",
       "    <tr>\n",
       "      <th>0</th>\n",
       "      <td>2021-03-26</td>\n",
       "      <td>107.25</td>\n",
       "      <td>110.0000</td>\n",
       "      <td>107.1750</td>\n",
       "      <td>109.90</td>\n",
       "      <td>109.90</td>\n",
       "      <td>6167570.0</td>\n",
       "    </tr>\n",
       "    <tr>\n",
       "      <th>1</th>\n",
       "      <td>2021-03-29</td>\n",
       "      <td>109.01</td>\n",
       "      <td>110.2500</td>\n",
       "      <td>106.5900</td>\n",
       "      <td>109.13</td>\n",
       "      <td>109.13</td>\n",
       "      <td>5167195.0</td>\n",
       "    </tr>\n",
       "    <tr>\n",
       "      <th>2</th>\n",
       "      <td>2021-03-30</td>\n",
       "      <td>108.42</td>\n",
       "      <td>110.4500</td>\n",
       "      <td>108.2800</td>\n",
       "      <td>110.27</td>\n",
       "      <td>110.27</td>\n",
       "      <td>4552862.0</td>\n",
       "    </tr>\n",
       "    <tr>\n",
       "      <th>3</th>\n",
       "      <td>2021-03-31</td>\n",
       "      <td>110.33</td>\n",
       "      <td>111.6199</td>\n",
       "      <td>109.1900</td>\n",
       "      <td>109.27</td>\n",
       "      <td>109.27</td>\n",
       "      <td>6478401.0</td>\n",
       "    </tr>\n",
       "    <tr>\n",
       "      <th>4</th>\n",
       "      <td>2021-04-01</td>\n",
       "      <td>110.06</td>\n",
       "      <td>110.0600</td>\n",
       "      <td>108.2000</td>\n",
       "      <td>109.38</td>\n",
       "      <td>109.38</td>\n",
       "      <td>5792950.0</td>\n",
       "    </tr>\n",
       "    <tr>\n",
       "      <th>5</th>\n",
       "      <td>2021-04-05</td>\n",
       "      <td>109.91</td>\n",
       "      <td>111.3500</td>\n",
       "      <td>109.8700</td>\n",
       "      <td>111.02</td>\n",
       "      <td>111.02</td>\n",
       "      <td>6913105.0</td>\n",
       "    </tr>\n",
       "    <tr>\n",
       "      <th>6</th>\n",
       "      <td>2021-04-06</td>\n",
       "      <td>111.38</td>\n",
       "      <td>113.8200</td>\n",
       "      <td>111.0950</td>\n",
       "      <td>113.15</td>\n",
       "      <td>113.15</td>\n",
       "      <td>6745242.0</td>\n",
       "    </tr>\n",
       "    <tr>\n",
       "      <th>7</th>\n",
       "      <td>2021-04-07</td>\n",
       "      <td>112.91</td>\n",
       "      <td>113.7600</td>\n",
       "      <td>112.6500</td>\n",
       "      <td>113.19</td>\n",
       "      <td>113.19</td>\n",
       "      <td>5629622.0</td>\n",
       "    </tr>\n",
       "    <tr>\n",
       "      <th>8</th>\n",
       "      <td>2021-04-08</td>\n",
       "      <td>113.65</td>\n",
       "      <td>113.9600</td>\n",
       "      <td>112.6799</td>\n",
       "      <td>113.04</td>\n",
       "      <td>113.04</td>\n",
       "      <td>5011290.0</td>\n",
       "    </tr>\n",
       "    <tr>\n",
       "      <th>9</th>\n",
       "      <td>2021-04-09</td>\n",
       "      <td>112.91</td>\n",
       "      <td>113.2700</td>\n",
       "      <td>111.9700</td>\n",
       "      <td>113.18</td>\n",
       "      <td>113.18</td>\n",
       "      <td>4114258.0</td>\n",
       "    </tr>\n",
       "  </tbody>\n",
       "</table>\n",
       "</div>"
      ],
      "text/plain": [
       "         Date    Open      High       Low   Close  Adj Close     Volume\n",
       "0  2021-03-26  107.25  110.0000  107.1750  109.90     109.90  6167570.0\n",
       "1  2021-03-29  109.01  110.2500  106.5900  109.13     109.13  5167195.0\n",
       "2  2021-03-30  108.42  110.4500  108.2800  110.27     110.27  4552862.0\n",
       "3  2021-03-31  110.33  111.6199  109.1900  109.27     109.27  6478401.0\n",
       "4  2021-04-01  110.06  110.0600  108.2000  109.38     109.38  5792950.0\n",
       "5  2021-04-05  109.91  111.3500  109.8700  111.02     111.02  6913105.0\n",
       "6  2021-04-06  111.38  113.8200  111.0950  113.15     113.15  6745242.0\n",
       "7  2021-04-07  112.91  113.7600  112.6500  113.19     113.19  5629622.0\n",
       "8  2021-04-08  113.65  113.9600  112.6799  113.04     113.04  5011290.0\n",
       "9  2021-04-09  112.91  113.2700  111.9700  113.18     113.18  4114258.0"
      ]
     },
     "execution_count": 4,
     "metadata": {},
     "output_type": "execute_result"
    }
   ],
   "source": [
    "data = get_stock_data('SBUX', 1, 'day', '2021-02-28', '2023-02-28')\n",
    "\n",
    "data.head(10)"
   ]
  },
  {
   "cell_type": "code",
   "execution_count": 5,
   "id": "793c4396",
   "metadata": {},
   "outputs": [
    {
     "name": "stdout",
     "output_type": "stream",
     "text": [
      "<class 'pandas.core.frame.DataFrame'>\n",
      "RangeIndex: 485 entries, 0 to 484\n",
      "Data columns (total 7 columns):\n",
      " #   Column     Non-Null Count  Dtype  \n",
      "---  ------     --------------  -----  \n",
      " 0   Date       485 non-null    object \n",
      " 1   Open       485 non-null    float64\n",
      " 2   High       485 non-null    float64\n",
      " 3   Low        485 non-null    float64\n",
      " 4   Close      485 non-null    float64\n",
      " 5   Adj Close  485 non-null    float64\n",
      " 6   Volume     485 non-null    float64\n",
      "dtypes: float64(6), object(1)\n",
      "memory usage: 26.6+ KB\n"
     ]
    }
   ],
   "source": [
    "data.info()"
   ]
  },
  {
   "cell_type": "code",
   "execution_count": 6,
   "id": "e296fe84",
   "metadata": {},
   "outputs": [],
   "source": [
    "split = int(round(data.size*0.7,0))\n",
    "train_size = split\n",
    "test_size = data.size - split\n",
    "\n",
    "data_train = data[:split]\n",
    "data_test = data[split:]"
   ]
  },
  {
   "cell_type": "code",
   "execution_count": 17,
   "id": "c5eb4ced",
   "metadata": {},
   "outputs": [
    {
     "data": {
      "text/plain": [
       "(        Open    High     Low   Close     Volume\n",
       " 39  111.6300  112.22  110.57  110.92  5146620.0\n",
       " 40  111.7980  113.03  111.52  112.52  5436295.0\n",
       " 41  112.9152  113.15  112.18  112.63  5390837.0,\n",
       " 112.85)"
      ]
     },
     "execution_count": 17,
     "metadata": {},
     "output_type": "execute_result"
    }
   ],
   "source": [
    "def subsample_sequence(sequence, length, horizon):\n",
    "\n",
    "    # Bounds of sampling\n",
    "    last_possible = len(sequence) - length - horizon\n",
    "    random_start = np.random.randint(0, last_possible)\n",
    "\n",
    "    # Sample\n",
    "    X = sequence[random_start:random_start +length].drop(columns=['Date', 'Adj Close']) # Remove target closing price & date\n",
    "    y = sequence.loc[random_start+length+horizon-1]['Close'] # Target is closing price\n",
    "\n",
    "    return X, y\n",
    "\n",
    "\n",
    "subsample_sequence(data, 3, 1)"
   ]
  },
  {
   "cell_type": "code",
   "execution_count": 18,
   "id": "685f90bf",
   "metadata": {},
   "outputs": [],
   "source": [
    "def get_X_y(sequence, length, horizon, number_of_samples):\n",
    "    \n",
    "    X, y = [], []\n",
    "    \n",
    "    # Do as many samples as specified\n",
    "    for sample in range(1,number_of_samples + 1):\n",
    "        \n",
    "        # Record sample X & y\n",
    "        xi, yi = subsample_sequence(sequence, length, horizon)\n",
    "        X.append(np.array(xi.values.T.tolist()).T) # Getting the right shape (sequences, observations,features)\n",
    "        y.append(yi)\n",
    "\n",
    "    return np.array(X), np.array(y)"
   ]
  },
  {
   "cell_type": "code",
   "execution_count": 19,
   "id": "544448dd",
   "metadata": {},
   "outputs": [],
   "source": [
    "X_train, y_train = get_X_y(sequence=data_train,\n",
    "               length=100,\n",
    "               horizon=1,\n",
    "               number_of_samples=10000)"
   ]
  },
  {
   "cell_type": "code",
   "execution_count": 21,
   "id": "b75def6a",
   "metadata": {},
   "outputs": [
    {
     "data": {
      "text/plain": [
       "(10000, 100, 5)"
      ]
     },
     "execution_count": 21,
     "metadata": {},
     "output_type": "execute_result"
    }
   ],
   "source": [
    "# 10000 subsamples, each of lenght 100 , each containg 5 features\n",
    "X_train.shape"
   ]
  },
  {
   "cell_type": "code",
   "execution_count": 22,
   "id": "5dbbccc6",
   "metadata": {},
   "outputs": [],
   "source": [
    "y_train = y_train.reshape(10000,1)"
   ]
  },
  {
   "cell_type": "code",
   "execution_count": 23,
   "id": "77624f5e",
   "metadata": {},
   "outputs": [
    {
     "name": "stdout",
     "output_type": "stream",
     "text": [
      "Model: \"sequential_5\"\n",
      "_________________________________________________________________\n",
      " Layer (type)                Output Shape              Param #   \n",
      "=================================================================\n",
      " lstm_17 (LSTM)              (None, 100, 15)           1260      \n",
      "                                                                 \n",
      " lstm_18 (LSTM)              (None, 100, 20)           2880      \n",
      "                                                                 \n",
      " lstm_19 (LSTM)              (None, 100, 15)           2160      \n",
      "                                                                 \n",
      " dense_10 (Dense)            (None, 100, 10)           160       \n",
      "                                                                 \n",
      " dense_11 (Dense)            (None, 100, 1)            11        \n",
      "                                                                 \n",
      "=================================================================\n",
      "Total params: 6,471\n",
      "Trainable params: 6,471\n",
      "Non-trainable params: 0\n",
      "_________________________________________________________________\n"
     ]
    }
   ],
   "source": [
    "from tensorflow.keras import models\n",
    "from tensorflow.keras import layers\n",
    "\n",
    "def init_model():\n",
    "\n",
    "    model = models.Sequential()\n",
    "\n",
    "    model.add(layers.LSTM(15, return_sequences=True, activation='tanh', input_shape=(100,5)))\n",
    "    model.add(layers.LSTM(20, return_sequences=True, activation='tanh'))\n",
    "    model.add(layers.LSTM(15, return_sequences=True, activation='tanh'))\n",
    "    model.add(layers.Dense(10, activation='relu'))\n",
    "    model.add(layers.Dense(1, activation='linear'))\n",
    "\n",
    "    model.compile(loss='mse',\n",
    "                  optimizer='rmsprop',\n",
    "                  metrics=['mae'])\n",
    "\n",
    "\n",
    "    return model\n",
    "\n",
    "init_model().summary()"
   ]
  },
  {
   "cell_type": "code",
   "execution_count": 24,
   "id": "a57eaff1",
   "metadata": {},
   "outputs": [
    {
     "name": "stdout",
     "output_type": "stream",
     "text": [
      "Epoch 1/8\n",
      "500/500 [==============================] - 13s 21ms/step - loss: 7060.8237 - mae: 82.5012 - val_loss: 4686.3423 - val_mae: 67.0167\n",
      "Epoch 2/8\n",
      "500/500 [==============================] - 10s 21ms/step - loss: 2379.5620 - mae: 44.5344 - val_loss: 533.5855 - val_mae: 19.0330\n",
      "Epoch 3/8\n",
      "500/500 [==============================] - 10s 21ms/step - loss: 229.0945 - mae: 12.8402 - val_loss: 199.0982 - val_mae: 12.4786\n",
      "Epoch 4/8\n",
      "500/500 [==============================] - 10s 21ms/step - loss: 194.8979 - mae: 12.2324 - val_loss: 199.7834 - val_mae: 12.5106\n",
      "Epoch 5/8\n",
      "500/500 [==============================] - 10s 21ms/step - loss: 194.8314 - mae: 12.2258 - val_loss: 199.1748 - val_mae: 12.4682\n",
      "Epoch 6/8\n",
      "500/500 [==============================] - 10s 21ms/step - loss: 194.9817 - mae: 12.2395 - val_loss: 199.3400 - val_mae: 12.4964\n",
      "Epoch 7/8\n",
      "500/500 [==============================] - 10s 21ms/step - loss: 194.9091 - mae: 12.2358 - val_loss: 199.0984 - val_mae: 12.4729\n",
      "Epoch 8/8\n",
      "500/500 [==============================] - 10s 21ms/step - loss: 194.9211 - mae: 12.2329 - val_loss: 199.0784 - val_mae: 12.4778\n"
     ]
    },
    {
     "data": {
      "text/plain": [
       "<keras.callbacks.History at 0x29a4b7940>"
      ]
     },
     "execution_count": 24,
     "metadata": {},
     "output_type": "execute_result"
    }
   ],
   "source": [
    "from tensorflow.keras.callbacks import EarlyStopping\n",
    "model = init_model()\n",
    "\n",
    "es = EarlyStopping(patience=20)\n",
    "\n",
    "model.fit(X_train, y_train, \n",
    "          epochs=8, \n",
    "          batch_size=16, \n",
    "          verbose=1, \n",
    "          callbacks = [es],\n",
    "          validation_split=0.2)"
   ]
  },
  {
   "cell_type": "code",
   "execution_count": null,
   "id": "cc4b42ce",
   "metadata": {},
   "outputs": [],
   "source": []
  },
  {
   "cell_type": "code",
   "execution_count": null,
   "id": "66365717",
   "metadata": {},
   "outputs": [],
   "source": []
  }
 ],
 "metadata": {
  "kernelspec": {
   "display_name": "Python 3 (ipykernel)",
   "language": "python",
   "name": "python3"
  },
  "language_info": {
   "codemirror_mode": {
    "name": "ipython",
    "version": 3
   },
   "file_extension": ".py",
   "mimetype": "text/x-python",
   "name": "python",
   "nbconvert_exporter": "python",
   "pygments_lexer": "ipython3",
   "version": "3.10.6"
  },
  "toc": {
   "base_numbering": 1,
   "nav_menu": {},
   "number_sections": true,
   "sideBar": true,
   "skip_h1_title": false,
   "title_cell": "Table of Contents",
   "title_sidebar": "Contents",
   "toc_cell": false,
   "toc_position": {},
   "toc_section_display": true,
   "toc_window_display": false
  }
 },
 "nbformat": 4,
 "nbformat_minor": 5
}
